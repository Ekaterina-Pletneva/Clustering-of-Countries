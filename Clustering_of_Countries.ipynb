{
 "cells": [
  {
   "cell_type": "code",
   "execution_count": 1,
   "metadata": {},
   "outputs": [],
   "source": [
    "import numpy as np #работа с массивами\n",
    "import pandas as pd #работа с таблицами\n",
    "\n",
    "import matplotlib.pyplot as plt #графики\n",
    "%matplotlib inline\n",
    "import matplotlib.cm as cm\n",
    "\n",
    "from sklearn.cluster import KMeans #кластеризация\n",
    "from sklearn.metrics import silhouette_samples, silhouette_score  #силуэт\n",
    "\n",
    "import scipy.stats as sps\n",
    "\n",
    "from scipy.cluster.hierarchy import dendrogram, linkage, fcluster  # дендрограмма\n",
    "from scipy.cluster import hierarchy"
   ]
  },
  {
   "cell_type": "code",
   "execution_count": 36,
   "metadata": {},
   "outputs": [
    {
     "data": {
      "text/html": [
       "<div>\n",
       "<style scoped>\n",
       "    .dataframe tbody tr th:only-of-type {\n",
       "        vertical-align: middle;\n",
       "    }\n",
       "\n",
       "    .dataframe tbody tr th {\n",
       "        vertical-align: top;\n",
       "    }\n",
       "\n",
       "    .dataframe thead th {\n",
       "        text-align: right;\n",
       "    }\n",
       "</style>\n",
       "<table border=\"1\" class=\"dataframe\">\n",
       "  <thead>\n",
       "    <tr style=\"text-align: right;\">\n",
       "      <th></th>\n",
       "      <th>Agr</th>\n",
       "      <th>Min</th>\n",
       "      <th>Man</th>\n",
       "      <th>PS</th>\n",
       "      <th>Con</th>\n",
       "      <th>SI</th>\n",
       "      <th>Fin</th>\n",
       "      <th>SPS</th>\n",
       "      <th>TC</th>\n",
       "    </tr>\n",
       "    <tr>\n",
       "      <th>Country</th>\n",
       "      <th></th>\n",
       "      <th></th>\n",
       "      <th></th>\n",
       "      <th></th>\n",
       "      <th></th>\n",
       "      <th></th>\n",
       "      <th></th>\n",
       "      <th></th>\n",
       "      <th></th>\n",
       "    </tr>\n",
       "  </thead>\n",
       "  <tbody>\n",
       "    <tr>\n",
       "      <th>Belgium</th>\n",
       "      <td>3.3</td>\n",
       "      <td>0.9</td>\n",
       "      <td>27.6</td>\n",
       "      <td>0.9</td>\n",
       "      <td>8.2</td>\n",
       "      <td>19.1</td>\n",
       "      <td>6.2</td>\n",
       "      <td>26.6</td>\n",
       "      <td>7.2</td>\n",
       "    </tr>\n",
       "    <tr>\n",
       "      <th>Denmark</th>\n",
       "      <td>9.2</td>\n",
       "      <td>0.1</td>\n",
       "      <td>21.8</td>\n",
       "      <td>0.6</td>\n",
       "      <td>8.3</td>\n",
       "      <td>14.6</td>\n",
       "      <td>6.5</td>\n",
       "      <td>32.2</td>\n",
       "      <td>7.1</td>\n",
       "    </tr>\n",
       "    <tr>\n",
       "      <th>France</th>\n",
       "      <td>10.8</td>\n",
       "      <td>0.8</td>\n",
       "      <td>27.5</td>\n",
       "      <td>0.9</td>\n",
       "      <td>8.9</td>\n",
       "      <td>16.8</td>\n",
       "      <td>6.0</td>\n",
       "      <td>22.6</td>\n",
       "      <td>5.7</td>\n",
       "    </tr>\n",
       "    <tr>\n",
       "      <th>W_Germany</th>\n",
       "      <td>6.7</td>\n",
       "      <td>1.3</td>\n",
       "      <td>35.8</td>\n",
       "      <td>0.9</td>\n",
       "      <td>7.3</td>\n",
       "      <td>14.4</td>\n",
       "      <td>5.0</td>\n",
       "      <td>22.3</td>\n",
       "      <td>6.1</td>\n",
       "    </tr>\n",
       "    <tr>\n",
       "      <th>Ireland</th>\n",
       "      <td>23.2</td>\n",
       "      <td>1.0</td>\n",
       "      <td>20.7</td>\n",
       "      <td>1.3</td>\n",
       "      <td>7.5</td>\n",
       "      <td>16.8</td>\n",
       "      <td>2.8</td>\n",
       "      <td>20.8</td>\n",
       "      <td>6.1</td>\n",
       "    </tr>\n",
       "    <tr>\n",
       "      <th>Italy</th>\n",
       "      <td>15.9</td>\n",
       "      <td>0.6</td>\n",
       "      <td>27.6</td>\n",
       "      <td>0.5</td>\n",
       "      <td>10.0</td>\n",
       "      <td>18.1</td>\n",
       "      <td>1.6</td>\n",
       "      <td>20.1</td>\n",
       "      <td>5.7</td>\n",
       "    </tr>\n",
       "    <tr>\n",
       "      <th>Luxembourg</th>\n",
       "      <td>7.7</td>\n",
       "      <td>3.1</td>\n",
       "      <td>30.8</td>\n",
       "      <td>0.8</td>\n",
       "      <td>9.2</td>\n",
       "      <td>18.5</td>\n",
       "      <td>4.6</td>\n",
       "      <td>19.2</td>\n",
       "      <td>6.2</td>\n",
       "    </tr>\n",
       "    <tr>\n",
       "      <th>Netherlands</th>\n",
       "      <td>6.3</td>\n",
       "      <td>0.1</td>\n",
       "      <td>22.5</td>\n",
       "      <td>1.0</td>\n",
       "      <td>9.9</td>\n",
       "      <td>18.0</td>\n",
       "      <td>6.8</td>\n",
       "      <td>28.5</td>\n",
       "      <td>6.8</td>\n",
       "    </tr>\n",
       "    <tr>\n",
       "      <th>United_Kingdom</th>\n",
       "      <td>2.7</td>\n",
       "      <td>1.4</td>\n",
       "      <td>30.2</td>\n",
       "      <td>1.4</td>\n",
       "      <td>6.9</td>\n",
       "      <td>16.9</td>\n",
       "      <td>5.7</td>\n",
       "      <td>28.3</td>\n",
       "      <td>6.4</td>\n",
       "    </tr>\n",
       "    <tr>\n",
       "      <th>Austria</th>\n",
       "      <td>12.7</td>\n",
       "      <td>1.1</td>\n",
       "      <td>30.2</td>\n",
       "      <td>1.4</td>\n",
       "      <td>9.0</td>\n",
       "      <td>16.8</td>\n",
       "      <td>4.9</td>\n",
       "      <td>16.8</td>\n",
       "      <td>7.0</td>\n",
       "    </tr>\n",
       "    <tr>\n",
       "      <th>Finland</th>\n",
       "      <td>13.0</td>\n",
       "      <td>0.4</td>\n",
       "      <td>25.9</td>\n",
       "      <td>1.3</td>\n",
       "      <td>7.4</td>\n",
       "      <td>14.7</td>\n",
       "      <td>5.5</td>\n",
       "      <td>24.3</td>\n",
       "      <td>7.6</td>\n",
       "    </tr>\n",
       "    <tr>\n",
       "      <th>Greece</th>\n",
       "      <td>41.4</td>\n",
       "      <td>0.6</td>\n",
       "      <td>17.6</td>\n",
       "      <td>0.6</td>\n",
       "      <td>8.1</td>\n",
       "      <td>11.5</td>\n",
       "      <td>2.4</td>\n",
       "      <td>11.0</td>\n",
       "      <td>6.7</td>\n",
       "    </tr>\n",
       "    <tr>\n",
       "      <th>Norway</th>\n",
       "      <td>9.0</td>\n",
       "      <td>0.5</td>\n",
       "      <td>22.4</td>\n",
       "      <td>0.8</td>\n",
       "      <td>8.6</td>\n",
       "      <td>16.9</td>\n",
       "      <td>4.7</td>\n",
       "      <td>27.6</td>\n",
       "      <td>9.4</td>\n",
       "    </tr>\n",
       "    <tr>\n",
       "      <th>Portugal</th>\n",
       "      <td>27.8</td>\n",
       "      <td>0.3</td>\n",
       "      <td>24.5</td>\n",
       "      <td>0.6</td>\n",
       "      <td>8.4</td>\n",
       "      <td>13.3</td>\n",
       "      <td>2.7</td>\n",
       "      <td>16.7</td>\n",
       "      <td>5.7</td>\n",
       "    </tr>\n",
       "    <tr>\n",
       "      <th>Spain</th>\n",
       "      <td>22.9</td>\n",
       "      <td>0.8</td>\n",
       "      <td>28.5</td>\n",
       "      <td>0.7</td>\n",
       "      <td>11.5</td>\n",
       "      <td>9.7</td>\n",
       "      <td>8.5</td>\n",
       "      <td>11.8</td>\n",
       "      <td>5.5</td>\n",
       "    </tr>\n",
       "    <tr>\n",
       "      <th>Sweden</th>\n",
       "      <td>6.1</td>\n",
       "      <td>0.4</td>\n",
       "      <td>25.9</td>\n",
       "      <td>0.8</td>\n",
       "      <td>7.2</td>\n",
       "      <td>14.4</td>\n",
       "      <td>6.0</td>\n",
       "      <td>32.4</td>\n",
       "      <td>6.8</td>\n",
       "    </tr>\n",
       "    <tr>\n",
       "      <th>Switzerland</th>\n",
       "      <td>7.7</td>\n",
       "      <td>0.2</td>\n",
       "      <td>37.8</td>\n",
       "      <td>0.8</td>\n",
       "      <td>9.5</td>\n",
       "      <td>17.5</td>\n",
       "      <td>5.3</td>\n",
       "      <td>15.4</td>\n",
       "      <td>5.7</td>\n",
       "    </tr>\n",
       "    <tr>\n",
       "      <th>Turkey</th>\n",
       "      <td>66.8</td>\n",
       "      <td>0.7</td>\n",
       "      <td>7.9</td>\n",
       "      <td>0.1</td>\n",
       "      <td>2.8</td>\n",
       "      <td>5.2</td>\n",
       "      <td>1.1</td>\n",
       "      <td>11.9</td>\n",
       "      <td>3.2</td>\n",
       "    </tr>\n",
       "    <tr>\n",
       "      <th>Bulgaria</th>\n",
       "      <td>23.6</td>\n",
       "      <td>1.9</td>\n",
       "      <td>32.3</td>\n",
       "      <td>0.6</td>\n",
       "      <td>7.9</td>\n",
       "      <td>8.0</td>\n",
       "      <td>0.7</td>\n",
       "      <td>18.2</td>\n",
       "      <td>6.7</td>\n",
       "    </tr>\n",
       "    <tr>\n",
       "      <th>Czechoslovakia</th>\n",
       "      <td>16.5</td>\n",
       "      <td>2.9</td>\n",
       "      <td>35.5</td>\n",
       "      <td>1.2</td>\n",
       "      <td>8.7</td>\n",
       "      <td>9.2</td>\n",
       "      <td>0.9</td>\n",
       "      <td>17.9</td>\n",
       "      <td>7.0</td>\n",
       "    </tr>\n",
       "    <tr>\n",
       "      <th>E_Germany</th>\n",
       "      <td>4.2</td>\n",
       "      <td>2.9</td>\n",
       "      <td>41.2</td>\n",
       "      <td>1.3</td>\n",
       "      <td>7.6</td>\n",
       "      <td>11.2</td>\n",
       "      <td>1.2</td>\n",
       "      <td>22.1</td>\n",
       "      <td>8.4</td>\n",
       "    </tr>\n",
       "    <tr>\n",
       "      <th>Hungary</th>\n",
       "      <td>21.7</td>\n",
       "      <td>3.1</td>\n",
       "      <td>29.6</td>\n",
       "      <td>1.9</td>\n",
       "      <td>8.2</td>\n",
       "      <td>9.4</td>\n",
       "      <td>0.9</td>\n",
       "      <td>17.2</td>\n",
       "      <td>8.0</td>\n",
       "    </tr>\n",
       "    <tr>\n",
       "      <th>Poland</th>\n",
       "      <td>31.1</td>\n",
       "      <td>2.5</td>\n",
       "      <td>25.7</td>\n",
       "      <td>0.9</td>\n",
       "      <td>8.4</td>\n",
       "      <td>7.5</td>\n",
       "      <td>0.9</td>\n",
       "      <td>16.1</td>\n",
       "      <td>6.9</td>\n",
       "    </tr>\n",
       "    <tr>\n",
       "      <th>Rumania</th>\n",
       "      <td>34.7</td>\n",
       "      <td>2.1</td>\n",
       "      <td>30.1</td>\n",
       "      <td>0.6</td>\n",
       "      <td>8.7</td>\n",
       "      <td>5.9</td>\n",
       "      <td>1.3</td>\n",
       "      <td>11.7</td>\n",
       "      <td>5.0</td>\n",
       "    </tr>\n",
       "    <tr>\n",
       "      <th>USSR</th>\n",
       "      <td>23.7</td>\n",
       "      <td>1.4</td>\n",
       "      <td>25.8</td>\n",
       "      <td>0.6</td>\n",
       "      <td>9.2</td>\n",
       "      <td>6.1</td>\n",
       "      <td>0.5</td>\n",
       "      <td>23.6</td>\n",
       "      <td>9.3</td>\n",
       "    </tr>\n",
       "    <tr>\n",
       "      <th>Yugoslavia</th>\n",
       "      <td>48.7</td>\n",
       "      <td>1.5</td>\n",
       "      <td>16.8</td>\n",
       "      <td>1.1</td>\n",
       "      <td>4.9</td>\n",
       "      <td>6.4</td>\n",
       "      <td>11.3</td>\n",
       "      <td>5.3</td>\n",
       "      <td>4.0</td>\n",
       "    </tr>\n",
       "  </tbody>\n",
       "</table>\n",
       "</div>"
      ],
      "text/plain": [
       "                 Agr  Min   Man   PS   Con    SI   Fin   SPS   TC\n",
       "Country                                                          \n",
       "Belgium          3.3  0.9  27.6  0.9   8.2  19.1   6.2  26.6  7.2\n",
       "Denmark          9.2  0.1  21.8  0.6   8.3  14.6   6.5  32.2  7.1\n",
       "France          10.8  0.8  27.5  0.9   8.9  16.8   6.0  22.6  5.7\n",
       "W_Germany        6.7  1.3  35.8  0.9   7.3  14.4   5.0  22.3  6.1\n",
       "Ireland         23.2  1.0  20.7  1.3   7.5  16.8   2.8  20.8  6.1\n",
       "Italy           15.9  0.6  27.6  0.5  10.0  18.1   1.6  20.1  5.7\n",
       "Luxembourg       7.7  3.1  30.8  0.8   9.2  18.5   4.6  19.2  6.2\n",
       "Netherlands      6.3  0.1  22.5  1.0   9.9  18.0   6.8  28.5  6.8\n",
       "United_Kingdom   2.7  1.4  30.2  1.4   6.9  16.9   5.7  28.3  6.4\n",
       "Austria         12.7  1.1  30.2  1.4   9.0  16.8   4.9  16.8  7.0\n",
       "Finland         13.0  0.4  25.9  1.3   7.4  14.7   5.5  24.3  7.6\n",
       "Greece          41.4  0.6  17.6  0.6   8.1  11.5   2.4  11.0  6.7\n",
       "Norway           9.0  0.5  22.4  0.8   8.6  16.9   4.7  27.6  9.4\n",
       "Portugal        27.8  0.3  24.5  0.6   8.4  13.3   2.7  16.7  5.7\n",
       "Spain           22.9  0.8  28.5  0.7  11.5   9.7   8.5  11.8  5.5\n",
       "Sweden           6.1  0.4  25.9  0.8   7.2  14.4   6.0  32.4  6.8\n",
       "Switzerland      7.7  0.2  37.8  0.8   9.5  17.5   5.3  15.4  5.7\n",
       "Turkey          66.8  0.7   7.9  0.1   2.8   5.2   1.1  11.9  3.2\n",
       "Bulgaria        23.6  1.9  32.3  0.6   7.9   8.0   0.7  18.2  6.7\n",
       "Czechoslovakia  16.5  2.9  35.5  1.2   8.7   9.2   0.9  17.9  7.0\n",
       "E_Germany        4.2  2.9  41.2  1.3   7.6  11.2   1.2  22.1  8.4\n",
       "Hungary         21.7  3.1  29.6  1.9   8.2   9.4   0.9  17.2  8.0\n",
       "Poland          31.1  2.5  25.7  0.9   8.4   7.5   0.9  16.1  6.9\n",
       "Rumania         34.7  2.1  30.1  0.6   8.7   5.9   1.3  11.7  5.0\n",
       "USSR            23.7  1.4  25.8  0.6   9.2   6.1   0.5  23.6  9.3\n",
       "Yugoslavia      48.7  1.5  16.8  1.1   4.9   6.4  11.3   5.3  4.0"
      ]
     },
     "execution_count": 36,
     "metadata": {},
     "output_type": "execute_result"
    }
   ],
   "source": [
    "df = pd.read_excel('European.xlsx',index_col='Country')\n",
    "df"
   ]
  },
  {
   "cell_type": "markdown",
   "metadata": {},
   "source": [
    "### Стандартизация данных (Первый способ)"
   ]
  },
  {
   "cell_type": "code",
   "execution_count": 3,
   "metadata": {},
   "outputs": [
    {
     "data": {
      "text/plain": [
       "array([[-1.03844649, -0.37199739,  0.08619551, -0.02085144,  0.02145187,\n",
       "         1.3690936 ,  0.79940055,  0.9820822 ,  0.47920226],\n",
       "       [-0.65142586, -1.21303495, -0.75784885, -0.83405766,  0.08342395,\n",
       "         0.36606322,  0.90840971,  1.81828787,  0.40591251],\n",
       "       [-0.54647111, -0.47712708,  0.07164302, -0.02085144,  0.4552564 ,\n",
       "         0.85643363,  0.72672777,  0.38479244, -0.62014411],\n",
       "       [-0.81541765,  0.0485214 ,  1.27949961, -0.02085144, -0.53629681,\n",
       "         0.32148409,  0.36336389,  0.33999571, -0.32698507],\n",
       "       [ 0.26692818, -0.26686769, -0.91792623,  1.06342351, -0.41235266,\n",
       "         0.85643363, -0.43603666,  0.11601205, -0.32698507],\n",
       "       [-0.21192785, -0.68738647,  0.08619551, -1.10512639,  1.13694923,\n",
       "         1.14619796, -0.87207332,  0.01148634, -0.62014411],\n",
       "       [-0.74982093,  1.94085592,  0.55187516, -0.29192018,  0.64117263,\n",
       "         1.23535621,  0.21801833, -0.12290385, -0.25369532],\n",
       "       [-0.84165634, -1.21303495, -0.65598143,  0.2502173 ,  1.07497715,\n",
       "         1.12390839,  1.01741888,  1.26579484,  0.18604323],\n",
       "       [-1.07780452,  0.15365109,  0.46456023,  1.33449225, -0.78418511,\n",
       "         0.87872319,  0.6177186 ,  1.23593035, -0.1071158 ],\n",
       "       [-0.42183735, -0.16173799,  0.46456023,  1.33449225,  0.51722848,\n",
       "         0.85643363,  0.3270275 , -0.48127771,  0.33262275],\n",
       "       [-0.40215833, -0.89764586, -0.1611968 ,  1.06342351, -0.47432473,\n",
       "         0.38835279,  0.54504583,  0.63864059,  0.77236129],\n",
       "       [ 1.46078843, -0.68738647, -1.36905339, -0.83405766, -0.0405202 ,\n",
       "        -0.32491326, -0.58138222, -1.34734787,  0.11275347],\n",
       "       [-0.6645452 , -0.79251617, -0.67053392, -0.29192018,  0.26934017,\n",
       "         0.87872319,  0.25435472,  1.13140464,  2.09157694],\n",
       "       [ 0.56867308, -1.00277556, -0.36493165, -0.83405766,  0.14539602,\n",
       "         0.07629889, -0.47237305, -0.49620996, -0.62014411],\n",
       "       [ 0.24724916, -0.47712708,  0.21716791, -0.56298892,  2.06653036,\n",
       "        -0.72612541,  1.63513748, -1.22788991, -0.76672362],\n",
       "       [-0.85477568, -0.89764586, -0.1611968 , -0.29192018, -0.59826888,\n",
       "         0.32148409,  0.72672777,  1.84815236,  0.18604323],\n",
       "       [-0.74982093, -1.10790526,  1.57054939, -0.29192018,  0.82708885,\n",
       "         1.01246058,  0.47237305, -0.69032913, -0.62014411],\n",
       "       [ 3.12694504, -0.58225678, -2.78064483, -2.18940135, -3.3250402 ,\n",
       "        -1.72915578, -1.05375527, -1.21295767, -2.45238805],\n",
       "       [ 0.29316687,  0.67929957,  0.7701625 , -0.83405766, -0.16446435,\n",
       "        -1.10504799, -1.19910082, -0.2722263 ,  0.11275347],\n",
       "       [-0.17256982,  1.73059653,  1.23584215,  0.79235477,  0.33131225,\n",
       "        -0.83757323, -1.12642804, -0.31702303,  0.33262275],\n",
       "       [-0.97940944,  1.73059653,  2.06533402,  1.06342351, -0.35038058,\n",
       "        -0.39178195, -1.01741888,  0.31013122,  1.35867936],\n",
       "       [ 0.1685331 ,  1.94085592,  0.37724529,  2.68983594,  0.02145187,\n",
       "        -0.7929941 , -1.12642804, -0.42154874,  1.06552033],\n",
       "       [ 0.78514224,  1.31007775, -0.19030178, -0.02085144,  0.14539602,\n",
       "        -1.21649581, -1.12642804, -0.58580342,  0.25933299],\n",
       "       [ 1.02129042,  0.88955897,  0.45000774, -0.83405766,  0.33131225,\n",
       "        -1.57312884, -0.98108249, -1.24282216, -1.13317241],\n",
       "       [ 0.29972654,  0.15365109, -0.17574929, -0.83405766,  0.64117263,\n",
       "        -1.52854971, -1.2717736 ,  0.53411488,  2.01828718],\n",
       "       [ 1.93964446,  0.25878079, -1.4854733 ,  0.52128604, -2.02362662,\n",
       "        -1.46168102,  2.65255636, -2.19848578, -1.86606999]])"
      ]
     },
     "execution_count": 3,
     "metadata": {},
     "output_type": "execute_result"
    }
   ],
   "source": [
    "from sklearn.preprocessing import StandardScaler\n",
    "scaler = StandardScaler()\n",
    "X = df[['Agr','Min','Man','PS','Con','SI','Fin','SPS','TC']]\n",
    "X = scaler.fit_transform(X)\n",
    "X"
   ]
  },
  {
   "cell_type": "code",
   "execution_count": 4,
   "metadata": {},
   "outputs": [
    {
     "data": {
      "image/png": "[encoded data removed]",
      "text/plain": [
       "<Figure size 432x288 with 1 Axes>"
      ]
     },
     "metadata": {
      "needs_background": "light"
     },
     "output_type": "display_data"
    }
   ],
   "source": [
    "link=linkage(X, 'ward','euclidean')\n",
    "dn=dendrogram(link,orientation=\"right\")"
   ]
  },
  {
   "cell_type": "markdown",
   "metadata": {},
   "source": [
    "### Исходя из первоначальной визуализации, можно сказать, что необходимо выделить 2-3 кластера."
   ]
  },
  {
   "cell_type": "code",
   "execution_count": 5,
   "metadata": {},
   "outputs": [
    {
     "data": {
      "image/png": "[encoded data removed]",
      "text/plain": [
       "<Figure size 432x288 with 1 Axes>"
      ]
     },
     "metadata": {
      "needs_background": "light"
     },
     "output_type": "display_data"
    }
   ],
   "source": [
    "K=range(2,15)\n",
    "#Перебираем значения к, списковое включение\n",
    "MODELS=[KMeans(n_clusters=k,random_state=29).fit(X) for k in K]\n",
    "\n",
    "#Находим значение критерия качества\n",
    "dist=[i.inertia_ for i in MODELS]\n",
    "\n",
    "#Строим график\n",
    "plt.plot(K,dist,marker=\"o\")\n",
    "plt.xlabel(\"k - количество кластеров\")\n",
    "plt.ylabel(\"Сумма расстояний\")\n",
    "plt.title(\"Метод Elbow \")\n",
    "plt.show()"
   ]
  },
  {
   "cell_type": "markdown",
   "metadata": {},
   "source": [
    "### Из графика видно,что лучшим вариантом является разделение на два кластера"
   ]
  },
  {
   "cell_type": "code",
   "execution_count": 6,
   "metadata": {},
   "outputs": [
    {
     "name": "stdout",
     "output_type": "stream",
     "text": [
      "Silhouette score for 2 clusters:\t0.46\n",
      "Silhouette score for 3 clusters:\t0.27\n",
      "Silhouette score for 4 clusters:\t0.25\n",
      "Silhouette score for 5 clusters:\t0.22\n",
      "Silhouette score for 6 clusters:\t0.19\n",
      "Silhouette score for 7 clusters:\t0.18\n",
      "Silhouette score for 8 clusters:\t0.18\n",
      "Silhouette score for 9 clusters:\t0.19\n",
      "Silhouette score for 10 clusters:\t0.18\n",
      "Silhouette score for 11 clusters:\t0.17\n",
      "Silhouette score for 12 clusters:\t0.13\n",
      "Silhouette score for 13 clusters:\t0.14\n"
     ]
    }
   ],
   "source": [
    "s_sc=[]\n",
    "K=range(2,14)\n",
    "for i in K:\n",
    "    model = KMeans(n_clusters=i, random_state=42).fit(X)\n",
    "    s_sc.append(float(silhouette_score(X, model.labels_)))\n",
    "    print('Silhouette score for {} clusters:\\t{:.2f}'.format(i, float(silhouette_score(X, model.labels_))))"
   ]
  },
  {
   "cell_type": "code",
   "execution_count": 7,
   "metadata": {},
   "outputs": [
    {
     "data": {
      "image/png": "[encoded data removed]",
      "text/plain": [
       "<Figure size 432x288 with 1 Axes>"
      ]
     },
     "metadata": {
      "needs_background": "light"
     },
     "output_type": "display_data"
    }
   ],
   "source": [
    "plt.plot(K,s_sc, color='blue')\n",
    "plt.xlabel(\"k\")\n",
    "plt.ylabel(\"Значение силуэта\")\n",
    "plt.show()"
   ]
  },
  {
   "cell_type": "markdown",
   "metadata": {},
   "source": [
    "### Опять же наибольшее значение силуэта при двух кластерах, а значит необходимо использовать деление на два кластера"
   ]
  },
  {
   "cell_type": "markdown",
   "metadata": {},
   "source": [
    "### Рассмотрим дендрограмму для разделения на 3 и 2 кластера:"
   ]
  },
  {
   "cell_type": "code",
   "execution_count": 8,
   "metadata": {},
   "outputs": [
    {
     "data": {
      "image/png": "[encoded data removed]",
      "text/plain": [
       "<Figure size 432x288 with 1 Axes>"
      ]
     },
     "metadata": {
      "needs_background": "light"
     },
     "output_type": "display_data"
    }
   ],
   "source": [
    "kmeans = KMeans(n_clusters=3,random_state=42)\n",
    "kmeans.fit(X)\n",
    "y_kmeans = kmeans.predict(X)\n",
    "\n",
    "plt.scatter(X[:, 0], X[:, 1], c=y_kmeans)\n",
    "\n",
    "centers = kmeans.cluster_centers_\n",
    "plt.scatter(centers[:, 0], centers[:, 1],c='black', s=100, alpha=0.5);"
   ]
  },
  {
   "cell_type": "code",
   "execution_count": 9,
   "metadata": {},
   "outputs": [
    {
     "data": {
      "image/png": "[encoded data removed]",
      "text/plain": [
       "<Figure size 432x288 with 1 Axes>"
      ]
     },
     "metadata": {
      "needs_background": "light"
     },
     "output_type": "display_data"
    }
   ],
   "source": [
    "kmeans = KMeans(n_clusters=2,random_state=42)\n",
    "kmeans.fit(X)\n",
    "y_kmeans = kmeans.predict(X)\n",
    "\n",
    "plt.scatter(X[:, 0], X[:, 1], c=y_kmeans)\n",
    "\n",
    "centers = kmeans.cluster_centers_\n",
    "plt.scatter(centers[:, 0], centers[:, 1],c='black', s=100, alpha=0.5);"
   ]
  },
  {
   "cell_type": "markdown",
   "metadata": {},
   "source": [
    "### Лучшим вариантом разделения является разделение на два кластера"
   ]
  },
  {
   "cell_type": "code",
   "execution_count": 10,
   "metadata": {},
   "outputs": [
    {
     "data": {
      "text/html": [
       "<div>\n",
       "<style scoped>\n",
       "    .dataframe tbody tr th:only-of-type {\n",
       "        vertical-align: middle;\n",
       "    }\n",
       "\n",
       "    .dataframe tbody tr th {\n",
       "        vertical-align: top;\n",
       "    }\n",
       "\n",
       "    .dataframe thead th {\n",
       "        text-align: right;\n",
       "    }\n",
       "</style>\n",
       "<table border=\"1\" class=\"dataframe\">\n",
       "  <thead>\n",
       "    <tr style=\"text-align: right;\">\n",
       "      <th></th>\n",
       "      <th>Agr</th>\n",
       "      <th>Min</th>\n",
       "      <th>Man</th>\n",
       "      <th>PS</th>\n",
       "      <th>Con</th>\n",
       "      <th>SI</th>\n",
       "      <th>Fin</th>\n",
       "      <th>SPS</th>\n",
       "      <th>TC</th>\n",
       "      <th>cluster</th>\n",
       "    </tr>\n",
       "    <tr>\n",
       "      <th>Country</th>\n",
       "      <th></th>\n",
       "      <th></th>\n",
       "      <th></th>\n",
       "      <th></th>\n",
       "      <th></th>\n",
       "      <th></th>\n",
       "      <th></th>\n",
       "      <th></th>\n",
       "      <th></th>\n",
       "      <th></th>\n",
       "    </tr>\n",
       "  </thead>\n",
       "  <tbody>\n",
       "    <tr>\n",
       "      <th>Belgium</th>\n",
       "      <td>3.3</td>\n",
       "      <td>0.9</td>\n",
       "      <td>27.6</td>\n",
       "      <td>0.9</td>\n",
       "      <td>8.2</td>\n",
       "      <td>19.1</td>\n",
       "      <td>6.2</td>\n",
       "      <td>26.6</td>\n",
       "      <td>7.2</td>\n",
       "      <td>0</td>\n",
       "    </tr>\n",
       "    <tr>\n",
       "      <th>Denmark</th>\n",
       "      <td>9.2</td>\n",
       "      <td>0.1</td>\n",
       "      <td>21.8</td>\n",
       "      <td>0.6</td>\n",
       "      <td>8.3</td>\n",
       "      <td>14.6</td>\n",
       "      <td>6.5</td>\n",
       "      <td>32.2</td>\n",
       "      <td>7.1</td>\n",
       "      <td>0</td>\n",
       "    </tr>\n",
       "    <tr>\n",
       "      <th>France</th>\n",
       "      <td>10.8</td>\n",
       "      <td>0.8</td>\n",
       "      <td>27.5</td>\n",
       "      <td>0.9</td>\n",
       "      <td>8.9</td>\n",
       "      <td>16.8</td>\n",
       "      <td>6.0</td>\n",
       "      <td>22.6</td>\n",
       "      <td>5.7</td>\n",
       "      <td>0</td>\n",
       "    </tr>\n",
       "    <tr>\n",
       "      <th>W_Germany</th>\n",
       "      <td>6.7</td>\n",
       "      <td>1.3</td>\n",
       "      <td>35.8</td>\n",
       "      <td>0.9</td>\n",
       "      <td>7.3</td>\n",
       "      <td>14.4</td>\n",
       "      <td>5.0</td>\n",
       "      <td>22.3</td>\n",
       "      <td>6.1</td>\n",
       "      <td>0</td>\n",
       "    </tr>\n",
       "    <tr>\n",
       "      <th>Ireland</th>\n",
       "      <td>23.2</td>\n",
       "      <td>1.0</td>\n",
       "      <td>20.7</td>\n",
       "      <td>1.3</td>\n",
       "      <td>7.5</td>\n",
       "      <td>16.8</td>\n",
       "      <td>2.8</td>\n",
       "      <td>20.8</td>\n",
       "      <td>6.1</td>\n",
       "      <td>0</td>\n",
       "    </tr>\n",
       "    <tr>\n",
       "      <th>Italy</th>\n",
       "      <td>15.9</td>\n",
       "      <td>0.6</td>\n",
       "      <td>27.6</td>\n",
       "      <td>0.5</td>\n",
       "      <td>10.0</td>\n",
       "      <td>18.1</td>\n",
       "      <td>1.6</td>\n",
       "      <td>20.1</td>\n",
       "      <td>5.7</td>\n",
       "      <td>0</td>\n",
       "    </tr>\n",
       "    <tr>\n",
       "      <th>Luxembourg</th>\n",
       "      <td>7.7</td>\n",
       "      <td>3.1</td>\n",
       "      <td>30.8</td>\n",
       "      <td>0.8</td>\n",
       "      <td>9.2</td>\n",
       "      <td>18.5</td>\n",
       "      <td>4.6</td>\n",
       "      <td>19.2</td>\n",
       "      <td>6.2</td>\n",
       "      <td>0</td>\n",
       "    </tr>\n",
       "    <tr>\n",
       "      <th>Netherlands</th>\n",
       "      <td>6.3</td>\n",
       "      <td>0.1</td>\n",
       "      <td>22.5</td>\n",
       "      <td>1.0</td>\n",
       "      <td>9.9</td>\n",
       "      <td>18.0</td>\n",
       "      <td>6.8</td>\n",
       "      <td>28.5</td>\n",
       "      <td>6.8</td>\n",
       "      <td>0</td>\n",
       "    </tr>\n",
       "    <tr>\n",
       "      <th>United_Kingdom</th>\n",
       "      <td>2.7</td>\n",
       "      <td>1.4</td>\n",
       "      <td>30.2</td>\n",
       "      <td>1.4</td>\n",
       "      <td>6.9</td>\n",
       "      <td>16.9</td>\n",
       "      <td>5.7</td>\n",
       "      <td>28.3</td>\n",
       "      <td>6.4</td>\n",
       "      <td>0</td>\n",
       "    </tr>\n",
       "    <tr>\n",
       "      <th>Austria</th>\n",
       "      <td>12.7</td>\n",
       "      <td>1.1</td>\n",
       "      <td>30.2</td>\n",
       "      <td>1.4</td>\n",
       "      <td>9.0</td>\n",
       "      <td>16.8</td>\n",
       "      <td>4.9</td>\n",
       "      <td>16.8</td>\n",
       "      <td>7.0</td>\n",
       "      <td>0</td>\n",
       "    </tr>\n",
       "    <tr>\n",
       "      <th>Finland</th>\n",
       "      <td>13.0</td>\n",
       "      <td>0.4</td>\n",
       "      <td>25.9</td>\n",
       "      <td>1.3</td>\n",
       "      <td>7.4</td>\n",
       "      <td>14.7</td>\n",
       "      <td>5.5</td>\n",
       "      <td>24.3</td>\n",
       "      <td>7.6</td>\n",
       "      <td>0</td>\n",
       "    </tr>\n",
       "    <tr>\n",
       "      <th>Greece</th>\n",
       "      <td>41.4</td>\n",
       "      <td>0.6</td>\n",
       "      <td>17.6</td>\n",
       "      <td>0.6</td>\n",
       "      <td>8.1</td>\n",
       "      <td>11.5</td>\n",
       "      <td>2.4</td>\n",
       "      <td>11.0</td>\n",
       "      <td>6.7</td>\n",
       "      <td>0</td>\n",
       "    </tr>\n",
       "    <tr>\n",
       "      <th>Norway</th>\n",
       "      <td>9.0</td>\n",
       "      <td>0.5</td>\n",
       "      <td>22.4</td>\n",
       "      <td>0.8</td>\n",
       "      <td>8.6</td>\n",
       "      <td>16.9</td>\n",
       "      <td>4.7</td>\n",
       "      <td>27.6</td>\n",
       "      <td>9.4</td>\n",
       "      <td>0</td>\n",
       "    </tr>\n",
       "    <tr>\n",
       "      <th>Portugal</th>\n",
       "      <td>27.8</td>\n",
       "      <td>0.3</td>\n",
       "      <td>24.5</td>\n",
       "      <td>0.6</td>\n",
       "      <td>8.4</td>\n",
       "      <td>13.3</td>\n",
       "      <td>2.7</td>\n",
       "      <td>16.7</td>\n",
       "      <td>5.7</td>\n",
       "      <td>0</td>\n",
       "    </tr>\n",
       "    <tr>\n",
       "      <th>Spain</th>\n",
       "      <td>22.9</td>\n",
       "      <td>0.8</td>\n",
       "      <td>28.5</td>\n",
       "      <td>0.7</td>\n",
       "      <td>11.5</td>\n",
       "      <td>9.7</td>\n",
       "      <td>8.5</td>\n",
       "      <td>11.8</td>\n",
       "      <td>5.5</td>\n",
       "      <td>0</td>\n",
       "    </tr>\n",
       "    <tr>\n",
       "      <th>Sweden</th>\n",
       "      <td>6.1</td>\n",
       "      <td>0.4</td>\n",
       "      <td>25.9</td>\n",
       "      <td>0.8</td>\n",
       "      <td>7.2</td>\n",
       "      <td>14.4</td>\n",
       "      <td>6.0</td>\n",
       "      <td>32.4</td>\n",
       "      <td>6.8</td>\n",
       "      <td>0</td>\n",
       "    </tr>\n",
       "    <tr>\n",
       "      <th>Switzerland</th>\n",
       "      <td>7.7</td>\n",
       "      <td>0.2</td>\n",
       "      <td>37.8</td>\n",
       "      <td>0.8</td>\n",
       "      <td>9.5</td>\n",
       "      <td>17.5</td>\n",
       "      <td>5.3</td>\n",
       "      <td>15.4</td>\n",
       "      <td>5.7</td>\n",
       "      <td>0</td>\n",
       "    </tr>\n",
       "    <tr>\n",
       "      <th>Turkey</th>\n",
       "      <td>66.8</td>\n",
       "      <td>0.7</td>\n",
       "      <td>7.9</td>\n",
       "      <td>0.1</td>\n",
       "      <td>2.8</td>\n",
       "      <td>5.2</td>\n",
       "      <td>1.1</td>\n",
       "      <td>11.9</td>\n",
       "      <td>3.2</td>\n",
       "      <td>1</td>\n",
       "    </tr>\n",
       "    <tr>\n",
       "      <th>Bulgaria</th>\n",
       "      <td>23.6</td>\n",
       "      <td>1.9</td>\n",
       "      <td>32.3</td>\n",
       "      <td>0.6</td>\n",
       "      <td>7.9</td>\n",
       "      <td>8.0</td>\n",
       "      <td>0.7</td>\n",
       "      <td>18.2</td>\n",
       "      <td>6.7</td>\n",
       "      <td>0</td>\n",
       "    </tr>\n",
       "    <tr>\n",
       "      <th>Czechoslovakia</th>\n",
       "      <td>16.5</td>\n",
       "      <td>2.9</td>\n",
       "      <td>35.5</td>\n",
       "      <td>1.2</td>\n",
       "      <td>8.7</td>\n",
       "      <td>9.2</td>\n",
       "      <td>0.9</td>\n",
       "      <td>17.9</td>\n",
       "      <td>7.0</td>\n",
       "      <td>0</td>\n",
       "    </tr>\n",
       "    <tr>\n",
       "      <th>E_Germany</th>\n",
       "      <td>4.2</td>\n",
       "      <td>2.9</td>\n",
       "      <td>41.2</td>\n",
       "      <td>1.3</td>\n",
       "      <td>7.6</td>\n",
       "      <td>11.2</td>\n",
       "      <td>1.2</td>\n",
       "      <td>22.1</td>\n",
       "      <td>8.4</td>\n",
       "      <td>0</td>\n",
       "    </tr>\n",
       "    <tr>\n",
       "      <th>Hungary</th>\n",
       "      <td>21.7</td>\n",
       "      <td>3.1</td>\n",
       "      <td>29.6</td>\n",
       "      <td>1.9</td>\n",
       "      <td>8.2</td>\n",
       "      <td>9.4</td>\n",
       "      <td>0.9</td>\n",
       "      <td>17.2</td>\n",
       "      <td>8.0</td>\n",
       "      <td>0</td>\n",
       "    </tr>\n",
       "    <tr>\n",
       "      <th>Poland</th>\n",
       "      <td>31.1</td>\n",
       "      <td>2.5</td>\n",
       "      <td>25.7</td>\n",
       "      <td>0.9</td>\n",
       "      <td>8.4</td>\n",
       "      <td>7.5</td>\n",
       "      <td>0.9</td>\n",
       "      <td>16.1</td>\n",
       "      <td>6.9</td>\n",
       "      <td>0</td>\n",
       "    </tr>\n",
       "    <tr>\n",
       "      <th>Rumania</th>\n",
       "      <td>34.7</td>\n",
       "      <td>2.1</td>\n",
       "      <td>30.1</td>\n",
       "      <td>0.6</td>\n",
       "      <td>8.7</td>\n",
       "      <td>5.9</td>\n",
       "      <td>1.3</td>\n",
       "      <td>11.7</td>\n",
       "      <td>5.0</td>\n",
       "      <td>0</td>\n",
       "    </tr>\n",
       "    <tr>\n",
       "      <th>USSR</th>\n",
       "      <td>23.7</td>\n",
       "      <td>1.4</td>\n",
       "      <td>25.8</td>\n",
       "      <td>0.6</td>\n",
       "      <td>9.2</td>\n",
       "      <td>6.1</td>\n",
       "      <td>0.5</td>\n",
       "      <td>23.6</td>\n",
       "      <td>9.3</td>\n",
       "      <td>0</td>\n",
       "    </tr>\n",
       "    <tr>\n",
       "      <th>Yugoslavia</th>\n",
       "      <td>48.7</td>\n",
       "      <td>1.5</td>\n",
       "      <td>16.8</td>\n",
       "      <td>1.1</td>\n",
       "      <td>4.9</td>\n",
       "      <td>6.4</td>\n",
       "      <td>11.3</td>\n",
       "      <td>5.3</td>\n",
       "      <td>4.0</td>\n",
       "      <td>1</td>\n",
       "    </tr>\n",
       "  </tbody>\n",
       "</table>\n",
       "</div>"
      ],
      "text/plain": [
       "                 Agr  Min   Man   PS   Con    SI   Fin   SPS   TC  cluster\n",
       "Country                                                                   \n",
       "Belgium          3.3  0.9  27.6  0.9   8.2  19.1   6.2  26.6  7.2        0\n",
       "Denmark          9.2  0.1  21.8  0.6   8.3  14.6   6.5  32.2  7.1        0\n",
       "France          10.8  0.8  27.5  0.9   8.9  16.8   6.0  22.6  5.7        0\n",
       "W_Germany        6.7  1.3  35.8  0.9   7.3  14.4   5.0  22.3  6.1        0\n",
       "Ireland         23.2  1.0  20.7  1.3   7.5  16.8   2.8  20.8  6.1        0\n",
       "Italy           15.9  0.6  27.6  0.5  10.0  18.1   1.6  20.1  5.7        0\n",
       "Luxembourg       7.7  3.1  30.8  0.8   9.2  18.5   4.6  19.2  6.2        0\n",
       "Netherlands      6.3  0.1  22.5  1.0   9.9  18.0   6.8  28.5  6.8        0\n",
       "United_Kingdom   2.7  1.4  30.2  1.4   6.9  16.9   5.7  28.3  6.4        0\n",
       "Austria         12.7  1.1  30.2  1.4   9.0  16.8   4.9  16.8  7.0        0\n",
       "Finland         13.0  0.4  25.9  1.3   7.4  14.7   5.5  24.3  7.6        0\n",
       "Greece          41.4  0.6  17.6  0.6   8.1  11.5   2.4  11.0  6.7        0\n",
       "Norway           9.0  0.5  22.4  0.8   8.6  16.9   4.7  27.6  9.4        0\n",
       "Portugal        27.8  0.3  24.5  0.6   8.4  13.3   2.7  16.7  5.7        0\n",
       "Spain           22.9  0.8  28.5  0.7  11.5   9.7   8.5  11.8  5.5        0\n",
       "Sweden           6.1  0.4  25.9  0.8   7.2  14.4   6.0  32.4  6.8        0\n",
       "Switzerland      7.7  0.2  37.8  0.8   9.5  17.5   5.3  15.4  5.7        0\n",
       "Turkey          66.8  0.7   7.9  0.1   2.8   5.2   1.1  11.9  3.2        1\n",
       "Bulgaria        23.6  1.9  32.3  0.6   7.9   8.0   0.7  18.2  6.7        0\n",
       "Czechoslovakia  16.5  2.9  35.5  1.2   8.7   9.2   0.9  17.9  7.0        0\n",
       "E_Germany        4.2  2.9  41.2  1.3   7.6  11.2   1.2  22.1  8.4        0\n",
       "Hungary         21.7  3.1  29.6  1.9   8.2   9.4   0.9  17.2  8.0        0\n",
       "Poland          31.1  2.5  25.7  0.9   8.4   7.5   0.9  16.1  6.9        0\n",
       "Rumania         34.7  2.1  30.1  0.6   8.7   5.9   1.3  11.7  5.0        0\n",
       "USSR            23.7  1.4  25.8  0.6   9.2   6.1   0.5  23.6  9.3        0\n",
       "Yugoslavia      48.7  1.5  16.8  1.1   4.9   6.4  11.3   5.3  4.0        1"
      ]
     },
     "execution_count": 10,
     "metadata": {},
     "output_type": "execute_result"
    }
   ],
   "source": [
    "model = KMeans(n_clusters=2, random_state=42).fit(X)\n",
    "\n",
    "df['cluster'] = model.labels_\n",
    "df"
   ]
  },
  {
   "cell_type": "code",
   "execution_count": 11,
   "metadata": {},
   "outputs": [
    {
     "data": {
      "image/png": "[encoded data removed]",
      "text/plain": [
       "<Figure size 720x432 with 1 Axes>"
      ]
     },
     "metadata": {
      "needs_background": "light"
     },
     "output_type": "display_data"
    }
   ],
   "source": [
    "plt.figure(figsize=(10, 6))\n",
    "plt.plot(df.columns[np.arange(9)], X[df['cluster'] == 0].mean(axis=0), label='cluster 0')\n",
    "plt.plot(df.columns[np.arange(9)], X[df['cluster'] == 1].mean(axis=0), label='cluster 1')\n",
    "plt.title('Стандартизированные средние значения по признакам в кластерах')\n",
    "plt.legend()\n",
    "plt.grid()\n",
    "plt.show()"
   ]
  },
  {
   "cell_type": "code",
   "execution_count": 12,
   "metadata": {},
   "outputs": [
    {
     "data": {
      "image/png": "[encoded data removed]",
      "text/plain": [
       "<Figure size 720x432 with 1 Axes>"
      ]
     },
     "metadata": {
      "needs_background": "light"
     },
     "output_type": "display_data"
    }
   ],
   "source": [
    "plt.figure(figsize=(10, 6))\n",
    "plt.plot(df.columns[np.arange(10)], df.values[df['cluster'] == 0].mean(axis=0), label='cluster 0')\n",
    "plt.plot(df.columns[np.arange(10)], df.values[df['cluster'] == 1].mean(axis=0), label='cluster 1')\n",
    "plt.title('Cредние значения по признакам в кластерах')\n",
    "plt.legend()\n",
    "plt.grid()\n",
    "plt.show()"
   ]
  },
  {
   "cell_type": "code",
   "execution_count": 13,
   "metadata": {},
   "outputs": [
    {
     "name": "stdout",
     "output_type": "stream",
     "text": [
      "Agr        15.912500\n",
      "Min         1.266667\n",
      "Man        28.229167\n",
      "PS          0.933333\n",
      "Con         8.525000\n",
      "SI         13.554167\n",
      "Fin         3.816667\n",
      "SPS        20.975000\n",
      "TC          6.791667\n",
      "cluster     0.000000\n",
      "dtype: float64\n",
      "Agr        57.75\n",
      "Min         1.10\n",
      "Man        12.35\n",
      "PS          0.60\n",
      "Con         3.85\n",
      "SI          5.80\n",
      "Fin         6.20\n",
      "SPS         8.60\n",
      "TC          3.60\n",
      "cluster     1.00\n",
      "dtype: float64\n"
     ]
    }
   ],
   "source": [
    "m_0 = df[df['cluster'] == 0].mean(axis=0) #среднее значение в кластере 0\n",
    "m_1 = df[df['cluster'] == 1].mean(axis=0) #среднее значение в кластере 1\n",
    "print(m_0)\n",
    "print(m_1)"
   ]
  },
  {
   "cell_type": "markdown",
   "metadata": {},
   "source": [
    "### Проверим значимость различия средних по показателям в кластерах"
   ]
  },
  {
   "cell_type": "code",
   "execution_count": 15,
   "metadata": {},
   "outputs": [
    {
     "data": {
      "text/plain": [
       "(10.502234385278847, 9.049999999999997)"
      ]
     },
     "execution_count": 15,
     "metadata": {},
     "output_type": "execute_result"
    }
   ],
   "source": [
    "np.std(df[df['cluster']==0]['Agr']), np.std(df[df['cluster']==1]['Agr'])"
   ]
  },
  {
   "cell_type": "markdown",
   "metadata": {},
   "source": [
    "### Так как во втором кластере нет достаточного количества наблюдений (только 2 страны), то данные в этом кластере НЕнормально распределены"
   ]
  },
  {
   "cell_type": "code",
   "execution_count": 16,
   "metadata": {},
   "outputs": [
    {
     "name": "stdout",
     "output_type": "stream",
     "text": [
      "Статистика=0.000, p=0.012\n",
      "H0 отклоняется\n"
     ]
    }
   ],
   "source": [
    "from scipy.stats import mannwhitneyu\n",
    "\n",
    "# сравнение средних\n",
    "dat0=df[df['cluster'] == 0]['Agr']\n",
    "dat1=df[df['cluster'] == 1]['Agr']\n",
    "stat, p = mannwhitneyu(dat0,dat1)\n",
    "print('Статистика=%.3f, p=%.3f' % (stat, p))\n",
    "# вывод\n",
    "alpha = 0.05\n",
    "if p > alpha:\n",
    "    print('H0 не отклоняется')\n",
    "else:\n",
    "    print('H0 отклоняется')"
   ]
  },
  {
   "cell_type": "markdown",
   "metadata": {},
   "source": [
    "#### ВЫВОД: Гипотеза о равенстве средних Процентa занятых в сельском хозяйстве  отклоняется"
   ]
  },
  {
   "cell_type": "code",
   "execution_count": 18,
   "metadata": {},
   "outputs": [
    {
     "data": {
      "text/plain": [
       "ShapiroResult(statistic=0.880979597568512, pvalue=0.008696571923792362)"
      ]
     },
     "execution_count": 18,
     "metadata": {},
     "output_type": "execute_result"
    }
   ],
   "source": [
    "sps.shapiro(df[df['cluster']==0]['Min'])"
   ]
  },
  {
   "cell_type": "code",
   "execution_count": 23,
   "metadata": {},
   "outputs": [
    {
     "name": "stdout",
     "output_type": "stream",
     "text": [
      "Статистика=22.000, p=0.443\n",
      "H0 не отклоняется\n"
     ]
    }
   ],
   "source": [
    "# сравнение средних\n",
    "dat1=df[df['cluster'] == 1]['Min']\n",
    "dat0=df[df['cluster'] == 0]['Min']\n",
    "stat, p = mannwhitneyu(dat0,dat1)\n",
    "print('Статистика=%.3f, p=%.3f' % (stat, p))\n",
    "# вывод\n",
    "alpha = 0.05\n",
    "if p > alpha:\n",
    "    print('H0 не отклоняется')\n",
    "else:\n",
    "    print('H0 отклоняется')"
   ]
  },
  {
   "cell_type": "markdown",
   "metadata": {},
   "source": [
    "#### ВЫВОД: Гипотеза о равенстве средних Процента занятых в горно-добывающей промышленности принимается"
   ]
  },
  {
   "cell_type": "code",
   "execution_count": 19,
   "metadata": {},
   "outputs": [
    {
     "data": {
      "text/plain": [
       "ShapiroResult(statistic=0.9766122102737427, pvalue=0.8262052536010742)"
      ]
     },
     "execution_count": 19,
     "metadata": {},
     "output_type": "execute_result"
    }
   ],
   "source": [
    "sps.shapiro(df[df['cluster']==0]['Man'])"
   ]
  },
  {
   "cell_type": "code",
   "execution_count": 24,
   "metadata": {},
   "outputs": [
    {
     "name": "stdout",
     "output_type": "stream",
     "text": [
      "Статистика=0.000, p=0.012\n",
      "H0 отклоняется\n"
     ]
    }
   ],
   "source": [
    "# сравнение средних\n",
    "dat1=df[df['cluster'] == 1]['Man']\n",
    "dat0=df[df['cluster'] == 0]['Man']\n",
    "stat, p = mannwhitneyu(dat0,dat1)\n",
    "print('Статистика=%.3f, p=%.3f' % (stat, p))\n",
    "# вывод\n",
    "alpha = 0.05\n",
    "if p > alpha:\n",
    "    print('H0 не отклоняется')\n",
    "else:\n",
    "    print('H0 отклоняется')"
   ]
  },
  {
   "cell_type": "markdown",
   "metadata": {},
   "source": [
    "#### ВЫВОД: Гипотеза о равенстве средних  Процентa занятых в производстве отклоняется"
   ]
  },
  {
   "cell_type": "code",
   "execution_count": 20,
   "metadata": {},
   "outputs": [
    {
     "data": {
      "text/plain": [
       "ShapiroResult(statistic=0.8867737650871277, pvalue=0.01140713132917881)"
      ]
     },
     "execution_count": 20,
     "metadata": {},
     "output_type": "execute_result"
    }
   ],
   "source": [
    "sps.shapiro(df[df['cluster']==0]['PS'])"
   ]
  },
  {
   "cell_type": "code",
   "execution_count": 25,
   "metadata": {},
   "outputs": [
    {
     "name": "stdout",
     "output_type": "stream",
     "text": [
      "Статистика=17.000, p=0.264\n",
      "H0 не отклоняется\n"
     ]
    }
   ],
   "source": [
    "# сравнение средних\n",
    "dat1=df[df['cluster'] == 1]['PS']\n",
    "dat0=df[df['cluster'] == 0]['PS']\n",
    "stat, p = mannwhitneyu(dat0,dat1)\n",
    "print('Статистика=%.3f, p=%.3f' % (stat, p))\n",
    "# вывод\n",
    "alpha = 0.05\n",
    "if p > alpha:\n",
    "    print('H0 не отклоняется')\n",
    "else:\n",
    "    print('H0 отклоняется')"
   ]
  },
  {
   "cell_type": "markdown",
   "metadata": {},
   "source": [
    "#### ВЫВОД: Гипотеза о равенстве средних Процента занятых в энергетике принимается"
   ]
  },
  {
   "cell_type": "code",
   "execution_count": 21,
   "metadata": {},
   "outputs": [
    {
     "data": {
      "text/plain": [
       "ShapiroResult(statistic=0.9503694176673889, pvalue=0.27597859501838684)"
      ]
     },
     "execution_count": 21,
     "metadata": {},
     "output_type": "execute_result"
    }
   ],
   "source": [
    "sps.shapiro(df[df['cluster']==0]['Con'])"
   ]
  },
  {
   "cell_type": "code",
   "execution_count": 26,
   "metadata": {},
   "outputs": [
    {
     "name": "stdout",
     "output_type": "stream",
     "text": [
      "Статистика=0.000, p=0.012\n",
      "H0 отклоняется\n"
     ]
    }
   ],
   "source": [
    "# сравнение средних\n",
    "dat1=df[df['cluster'] == 1]['Con']\n",
    "dat0=df[df['cluster'] == 0]['Con']\n",
    "stat, p = mannwhitneyu(dat0,dat1)\n",
    "print('Статистика=%.3f, p=%.3f' % (stat, p))\n",
    "# вывод\n",
    "alpha = 0.05\n",
    "if p > alpha:\n",
    "    print('H0 не отклоняется')\n",
    "else:\n",
    "    print('H0 отклоняется')"
   ]
  },
  {
   "cell_type": "markdown",
   "metadata": {},
   "source": [
    "#### ВЫВОД: Гипотеза о равенстве средних Процентa занятых в строительстве отклоняется"
   ]
  },
  {
   "cell_type": "code",
   "execution_count": 22,
   "metadata": {},
   "outputs": [
    {
     "data": {
      "text/plain": [
       "ShapiroResult(statistic=0.9075540900230408, pvalue=0.031224003061652184)"
      ]
     },
     "execution_count": 22,
     "metadata": {},
     "output_type": "execute_result"
    }
   ],
   "source": [
    "sps.shapiro(df[df['cluster']==0]['SI'])"
   ]
  },
  {
   "cell_type": "code",
   "execution_count": 27,
   "metadata": {},
   "outputs": [
    {
     "name": "stdout",
     "output_type": "stream",
     "text": [
      "Статистика=2.000, p=0.019\n",
      "H0 отклоняется\n"
     ]
    }
   ],
   "source": [
    "# сравнение средних\n",
    "dat1=df[df['cluster'] == 1]['SI']\n",
    "dat0=df[df['cluster'] == 0]['SI']\n",
    "stat, p = mannwhitneyu(dat0,dat1)\n",
    "print('Статистика=%.3f, p=%.3f' % (stat, p))\n",
    "# вывод\n",
    "alpha = 0.05\n",
    "if p > alpha:\n",
    "    print('H0 не отклоняется')\n",
    "else:\n",
    "    print('H0 отклоняется')"
   ]
  },
  {
   "cell_type": "markdown",
   "metadata": {},
   "source": [
    "#### ВЫВОД: Гипотеза о равенстве средних Процентa занятых в сфере услуг отклоняется"
   ]
  },
  {
   "cell_type": "code",
   "execution_count": 23,
   "metadata": {},
   "outputs": [
    {
     "data": {
      "text/plain": [
       "ShapiroResult(statistic=0.9085167646408081, pvalue=0.03275535628199577)"
      ]
     },
     "execution_count": 23,
     "metadata": {},
     "output_type": "execute_result"
    }
   ],
   "source": [
    "sps.shapiro(df[df['cluster']==0]['Fin'])"
   ]
  },
  {
   "cell_type": "code",
   "execution_count": 28,
   "metadata": {},
   "outputs": [
    {
     "name": "stdout",
     "output_type": "stream",
     "text": [
      "Статистика=19.000, p=0.332\n",
      "H0 не отклоняется\n"
     ]
    }
   ],
   "source": [
    "# сравнение средних\n",
    "dat1=df[df['cluster'] == 1]['Fin']\n",
    "dat0=df[df['cluster'] == 0]['Fin']\n",
    "stat, p = mannwhitneyu(dat0,dat1)\n",
    "print('Статистика=%.3f, p=%.3f' % (stat, p))\n",
    "# вывод\n",
    "alpha = 0.05\n",
    "if p > alpha:\n",
    "    print('H0 не отклоняется')\n",
    "else:\n",
    "    print('H0 отклоняется')"
   ]
  },
  {
   "cell_type": "markdown",
   "metadata": {},
   "source": [
    "#### ВЫВОД: Гипотеза о равенстве средних Процентa занятых в финансовом секторе принимается"
   ]
  },
  {
   "cell_type": "code",
   "execution_count": 24,
   "metadata": {},
   "outputs": [
    {
     "data": {
      "text/plain": [
       "ShapiroResult(statistic=0.9655788540840149, pvalue=0.5601310133934021)"
      ]
     },
     "execution_count": 24,
     "metadata": {},
     "output_type": "execute_result"
    }
   ],
   "source": [
    "sps.shapiro(df[df['cluster']==0]['SPS'])"
   ]
  },
  {
   "cell_type": "code",
   "execution_count": 29,
   "metadata": {},
   "outputs": [
    {
     "name": "stdout",
     "output_type": "stream",
     "text": [
      "Статистика=3.000, p=0.024\n",
      "H0 отклоняется\n"
     ]
    }
   ],
   "source": [
    "# сравнение средних\n",
    "dat1=df[df['cluster'] == 1]['SPS']\n",
    "dat0=df[df['cluster'] == 0]['SPS']\n",
    "stat, p = mannwhitneyu(dat0,dat1)\n",
    "print('Статистика=%.3f, p=%.3f' % (stat, p))\n",
    "# вывод\n",
    "alpha = 0.05\n",
    "if p > alpha:\n",
    "    print('H0 не отклоняется')\n",
    "else:\n",
    "    print('H0 отклоняется')"
   ]
  },
  {
   "cell_type": "markdown",
   "metadata": {},
   "source": [
    "#### ВЫВОД: Гипотеза о равенстве средних Процентa занятых в социальных службах отклоняется"
   ]
  },
  {
   "cell_type": "code",
   "execution_count": 25,
   "metadata": {},
   "outputs": [
    {
     "data": {
      "text/plain": [
       "ShapiroResult(statistic=0.929395854473114, pvalue=0.09450237452983856)"
      ]
     },
     "execution_count": 25,
     "metadata": {},
     "output_type": "execute_result"
    }
   ],
   "source": [
    "sps.shapiro(df[df['cluster']==0]['TC'])"
   ]
  },
  {
   "cell_type": "code",
   "execution_count": 30,
   "metadata": {},
   "outputs": [
    {
     "name": "stdout",
     "output_type": "stream",
     "text": [
      "Статистика=0.000, p=0.012\n",
      "H0 отклоняется\n"
     ]
    }
   ],
   "source": [
    "# сравнение средних\n",
    "dat1=df[df['cluster'] == 1]['TC']\n",
    "dat0=df[df['cluster'] == 0]['TC']\n",
    "stat, p = mannwhitneyu(dat0,dat1)\n",
    "print('Статистика=%.3f, p=%.3f' % (stat, p))\n",
    "# вывод\n",
    "alpha = 0.05\n",
    "if p > alpha:\n",
    "    print('H0 не отклоняется')\n",
    "else:\n",
    "    print('H0 отклоняется')"
   ]
  },
  {
   "cell_type": "markdown",
   "metadata": {},
   "source": [
    "#### ВЫВОД: Гипотеза о равенстве средних Процент занятых в транспорте и связи отклоняется"
   ]
  },
  {
   "cell_type": "code",
   "execution_count": 15,
   "metadata": {},
   "outputs": [
    {
     "name": "stdout",
     "output_type": "stream",
     "text": [
      "For n_clusters = 2 The average silhouette_score is : 0.45628411877541164\n",
      "For n_clusters = 3 The average silhouette_score is : 0.2736377223665529\n",
      "For n_clusters = 4 The average silhouette_score is : 0.2505096666792621\n"
     ]
    },
    {
     "data": {
      "image/png": "[encoded data removed]",
      "text/plain": [
       "<Figure size 720x504 with 1 Axes>"
      ]
     },
     "metadata": {
      "needs_background": "light"
     },
     "output_type": "display_data"
    },
    {
     "data": {
      "image/png": "[encoded data removed]",
      "text/plain": [
       "<Figure size 720x504 with 1 Axes>"
      ]
     },
     "metadata": {
      "needs_background": "light"
     },
     "output_type": "display_data"
    },
    {
     "data": {
      "image/png": "[encoded data removed]",
      "text/plain": [
       "<Figure size 720x504 with 1 Axes>"
      ]
     },
     "metadata": {
      "needs_background": "light"
     },
     "output_type": "display_data"
    }
   ],
   "source": [
    "y = model.labels_\n",
    "range_n_clusters = [2, 3, 4]\n",
    "\n",
    "for n_clusters in range_n_clusters:\n",
    "    fig, (ax1) = plt.subplots(1)\n",
    "    fig.set_size_inches(10, 7)\n",
    "\n",
    "    ax1.set_xlim([-0.1, 1])\n",
    "    ax1.set_ylim([0, len(X) + (n_clusters + 1) * 10])\n",
    "\n",
    "    clusterer = KMeans(n_clusters=n_clusters, random_state=42)\n",
    "    cluster_labels = clusterer.fit_predict(X)\n",
    "\n",
    "    silhouette_avg = silhouette_score(X, cluster_labels)\n",
    "    print(\"For n_clusters =\", n_clusters,\n",
    "          \"The average silhouette_score is :\", silhouette_avg)\n",
    "\n",
    "    sample_silhouette_values = silhouette_samples(X, cluster_labels)\n",
    "\n",
    "    y_lower = 10\n",
    "    for i in range(n_clusters):\n",
    "        ith_cluster_silhouette_values = \\\n",
    "            sample_silhouette_values[cluster_labels == i]\n",
    "\n",
    "        ith_cluster_silhouette_values.sort()\n",
    "\n",
    "        size_cluster_i = ith_cluster_silhouette_values.shape[0]\n",
    "        y_upper = y_lower + size_cluster_i\n",
    "\n",
    "        color = cm.nipy_spectral(float(i) / n_clusters)\n",
    "        ax1.fill_betweenx(np.arange(y_lower, y_upper),\n",
    "                          0, ith_cluster_silhouette_values,\n",
    "                          facecolor=color, edgecolor=color, alpha=0.7)\n",
    "\n",
    "        ax1.text(-0.05, y_lower + 0.5 * size_cluster_i, str(i))\n",
    "\n",
    "        y_lower = y_upper + 10\n",
    "\n",
    "    ax1.set_title(\"The silhouette plot for the various clusters.\")\n",
    "    ax1.set_xlabel(\"The silhouette coefficient values\")\n",
    "    ax1.set_ylabel(\"Cluster label\")\n",
    "\n",
    "    ax1.axvline(x=silhouette_avg, color=\"red\", linestyle=\"--\")\n",
    "\n",
    "    ax1.set_yticks([])  # Clear the yaxis labels / ticks\n",
    "    ax1.set_xticks([-0.1, 0, 0.2, 0.4, 0.6, 0.8, 1])  "
   ]
  },
  {
   "cell_type": "markdown",
   "metadata": {},
   "source": [
    "### Вывод (по первому способу стандартизации данных):"
   ]
  },
  {
   "cell_type": "markdown",
   "metadata": {},
   "source": [
    "#### Наибольшее значение силуэта у деления на два кластера, поэтому было принято решение провести кластеризацию именно так. "
   ]
  },
  {
   "cell_type": "markdown",
   "metadata": {},
   "source": [
    "#### Таким образом, во второй кластер попали только две страны: Югославия и Турция. Страны характеризуются наибольшим средним стандартизированным процентом занятых в сельском хозяйстве и в финансовой сфере, но наименьшим процентом занятых в производстве, в строительстве, в сфере услуг, в социальных службах, в транспорте и связи. Тогда как страны второго кластера (все остальные страны кроме Югославии и Турции) имеют обратную характеристику."
   ]
  },
  {
   "cell_type": "markdown",
   "metadata": {},
   "source": [
    "#### Стоит отметить, что различие средних статистически незначимо по таким показателям как: Процент занятых в горно-добывающей промышленности, Процент занятых в энергетике, Процент занятых в финансовом секторе."
   ]
  },
  {
   "cell_type": "markdown",
   "metadata": {},
   "source": [
    "### Стандартизация данных (Второй способ)"
   ]
  },
  {
   "cell_type": "code",
   "execution_count": 37,
   "metadata": {},
   "outputs": [
    {
     "data": {
      "text/html": [
       "<div>\n",
       "<style scoped>\n",
       "    .dataframe tbody tr th:only-of-type {\n",
       "        vertical-align: middle;\n",
       "    }\n",
       "\n",
       "    .dataframe tbody tr th {\n",
       "        vertical-align: top;\n",
       "    }\n",
       "\n",
       "    .dataframe thead th {\n",
       "        text-align: right;\n",
       "    }\n",
       "</style>\n",
       "<table border=\"1\" class=\"dataframe\">\n",
       "  <thead>\n",
       "    <tr style=\"text-align: right;\">\n",
       "      <th></th>\n",
       "      <th>Agr</th>\n",
       "      <th>Min</th>\n",
       "      <th>Man</th>\n",
       "      <th>PS</th>\n",
       "      <th>Con</th>\n",
       "      <th>SI</th>\n",
       "      <th>Fin</th>\n",
       "      <th>SPS</th>\n",
       "      <th>TC</th>\n",
       "    </tr>\n",
       "    <tr>\n",
       "      <th>Country</th>\n",
       "      <th></th>\n",
       "      <th></th>\n",
       "      <th></th>\n",
       "      <th></th>\n",
       "      <th></th>\n",
       "      <th></th>\n",
       "      <th></th>\n",
       "      <th></th>\n",
       "      <th></th>\n",
       "    </tr>\n",
       "  </thead>\n",
       "  <tbody>\n",
       "    <tr>\n",
       "      <th>Belgium</th>\n",
       "      <td>3.3</td>\n",
       "      <td>0.9</td>\n",
       "      <td>27.6</td>\n",
       "      <td>0.9</td>\n",
       "      <td>8.2</td>\n",
       "      <td>19.1</td>\n",
       "      <td>6.2</td>\n",
       "      <td>26.6</td>\n",
       "      <td>7.2</td>\n",
       "    </tr>\n",
       "    <tr>\n",
       "      <th>Denmark</th>\n",
       "      <td>9.2</td>\n",
       "      <td>0.1</td>\n",
       "      <td>21.8</td>\n",
       "      <td>0.6</td>\n",
       "      <td>8.3</td>\n",
       "      <td>14.6</td>\n",
       "      <td>6.5</td>\n",
       "      <td>32.2</td>\n",
       "      <td>7.1</td>\n",
       "    </tr>\n",
       "    <tr>\n",
       "      <th>France</th>\n",
       "      <td>10.8</td>\n",
       "      <td>0.8</td>\n",
       "      <td>27.5</td>\n",
       "      <td>0.9</td>\n",
       "      <td>8.9</td>\n",
       "      <td>16.8</td>\n",
       "      <td>6.0</td>\n",
       "      <td>22.6</td>\n",
       "      <td>5.7</td>\n",
       "    </tr>\n",
       "    <tr>\n",
       "      <th>W_Germany</th>\n",
       "      <td>6.7</td>\n",
       "      <td>1.3</td>\n",
       "      <td>35.8</td>\n",
       "      <td>0.9</td>\n",
       "      <td>7.3</td>\n",
       "      <td>14.4</td>\n",
       "      <td>5.0</td>\n",
       "      <td>22.3</td>\n",
       "      <td>6.1</td>\n",
       "    </tr>\n",
       "    <tr>\n",
       "      <th>Ireland</th>\n",
       "      <td>23.2</td>\n",
       "      <td>1.0</td>\n",
       "      <td>20.7</td>\n",
       "      <td>1.3</td>\n",
       "      <td>7.5</td>\n",
       "      <td>16.8</td>\n",
       "      <td>2.8</td>\n",
       "      <td>20.8</td>\n",
       "      <td>6.1</td>\n",
       "    </tr>\n",
       "    <tr>\n",
       "      <th>Italy</th>\n",
       "      <td>15.9</td>\n",
       "      <td>0.6</td>\n",
       "      <td>27.6</td>\n",
       "      <td>0.5</td>\n",
       "      <td>10.0</td>\n",
       "      <td>18.1</td>\n",
       "      <td>1.6</td>\n",
       "      <td>20.1</td>\n",
       "      <td>5.7</td>\n",
       "    </tr>\n",
       "    <tr>\n",
       "      <th>Luxembourg</th>\n",
       "      <td>7.7</td>\n",
       "      <td>3.1</td>\n",
       "      <td>30.8</td>\n",
       "      <td>0.8</td>\n",
       "      <td>9.2</td>\n",
       "      <td>18.5</td>\n",
       "      <td>4.6</td>\n",
       "      <td>19.2</td>\n",
       "      <td>6.2</td>\n",
       "    </tr>\n",
       "    <tr>\n",
       "      <th>Netherlands</th>\n",
       "      <td>6.3</td>\n",
       "      <td>0.1</td>\n",
       "      <td>22.5</td>\n",
       "      <td>1.0</td>\n",
       "      <td>9.9</td>\n",
       "      <td>18.0</td>\n",
       "      <td>6.8</td>\n",
       "      <td>28.5</td>\n",
       "      <td>6.8</td>\n",
       "    </tr>\n",
       "    <tr>\n",
       "      <th>United_Kingdom</th>\n",
       "      <td>2.7</td>\n",
       "      <td>1.4</td>\n",
       "      <td>30.2</td>\n",
       "      <td>1.4</td>\n",
       "      <td>6.9</td>\n",
       "      <td>16.9</td>\n",
       "      <td>5.7</td>\n",
       "      <td>28.3</td>\n",
       "      <td>6.4</td>\n",
       "    </tr>\n",
       "    <tr>\n",
       "      <th>Austria</th>\n",
       "      <td>12.7</td>\n",
       "      <td>1.1</td>\n",
       "      <td>30.2</td>\n",
       "      <td>1.4</td>\n",
       "      <td>9.0</td>\n",
       "      <td>16.8</td>\n",
       "      <td>4.9</td>\n",
       "      <td>16.8</td>\n",
       "      <td>7.0</td>\n",
       "    </tr>\n",
       "    <tr>\n",
       "      <th>Finland</th>\n",
       "      <td>13.0</td>\n",
       "      <td>0.4</td>\n",
       "      <td>25.9</td>\n",
       "      <td>1.3</td>\n",
       "      <td>7.4</td>\n",
       "      <td>14.7</td>\n",
       "      <td>5.5</td>\n",
       "      <td>24.3</td>\n",
       "      <td>7.6</td>\n",
       "    </tr>\n",
       "    <tr>\n",
       "      <th>Greece</th>\n",
       "      <td>41.4</td>\n",
       "      <td>0.6</td>\n",
       "      <td>17.6</td>\n",
       "      <td>0.6</td>\n",
       "      <td>8.1</td>\n",
       "      <td>11.5</td>\n",
       "      <td>2.4</td>\n",
       "      <td>11.0</td>\n",
       "      <td>6.7</td>\n",
       "    </tr>\n",
       "    <tr>\n",
       "      <th>Norway</th>\n",
       "      <td>9.0</td>\n",
       "      <td>0.5</td>\n",
       "      <td>22.4</td>\n",
       "      <td>0.8</td>\n",
       "      <td>8.6</td>\n",
       "      <td>16.9</td>\n",
       "      <td>4.7</td>\n",
       "      <td>27.6</td>\n",
       "      <td>9.4</td>\n",
       "    </tr>\n",
       "    <tr>\n",
       "      <th>Portugal</th>\n",
       "      <td>27.8</td>\n",
       "      <td>0.3</td>\n",
       "      <td>24.5</td>\n",
       "      <td>0.6</td>\n",
       "      <td>8.4</td>\n",
       "      <td>13.3</td>\n",
       "      <td>2.7</td>\n",
       "      <td>16.7</td>\n",
       "      <td>5.7</td>\n",
       "    </tr>\n",
       "    <tr>\n",
       "      <th>Spain</th>\n",
       "      <td>22.9</td>\n",
       "      <td>0.8</td>\n",
       "      <td>28.5</td>\n",
       "      <td>0.7</td>\n",
       "      <td>11.5</td>\n",
       "      <td>9.7</td>\n",
       "      <td>8.5</td>\n",
       "      <td>11.8</td>\n",
       "      <td>5.5</td>\n",
       "    </tr>\n",
       "    <tr>\n",
       "      <th>Sweden</th>\n",
       "      <td>6.1</td>\n",
       "      <td>0.4</td>\n",
       "      <td>25.9</td>\n",
       "      <td>0.8</td>\n",
       "      <td>7.2</td>\n",
       "      <td>14.4</td>\n",
       "      <td>6.0</td>\n",
       "      <td>32.4</td>\n",
       "      <td>6.8</td>\n",
       "    </tr>\n",
       "    <tr>\n",
       "      <th>Switzerland</th>\n",
       "      <td>7.7</td>\n",
       "      <td>0.2</td>\n",
       "      <td>37.8</td>\n",
       "      <td>0.8</td>\n",
       "      <td>9.5</td>\n",
       "      <td>17.5</td>\n",
       "      <td>5.3</td>\n",
       "      <td>15.4</td>\n",
       "      <td>5.7</td>\n",
       "    </tr>\n",
       "    <tr>\n",
       "      <th>Turkey</th>\n",
       "      <td>66.8</td>\n",
       "      <td>0.7</td>\n",
       "      <td>7.9</td>\n",
       "      <td>0.1</td>\n",
       "      <td>2.8</td>\n",
       "      <td>5.2</td>\n",
       "      <td>1.1</td>\n",
       "      <td>11.9</td>\n",
       "      <td>3.2</td>\n",
       "    </tr>\n",
       "    <tr>\n",
       "      <th>Bulgaria</th>\n",
       "      <td>23.6</td>\n",
       "      <td>1.9</td>\n",
       "      <td>32.3</td>\n",
       "      <td>0.6</td>\n",
       "      <td>7.9</td>\n",
       "      <td>8.0</td>\n",
       "      <td>0.7</td>\n",
       "      <td>18.2</td>\n",
       "      <td>6.7</td>\n",
       "    </tr>\n",
       "    <tr>\n",
       "      <th>Czechoslovakia</th>\n",
       "      <td>16.5</td>\n",
       "      <td>2.9</td>\n",
       "      <td>35.5</td>\n",
       "      <td>1.2</td>\n",
       "      <td>8.7</td>\n",
       "      <td>9.2</td>\n",
       "      <td>0.9</td>\n",
       "      <td>17.9</td>\n",
       "      <td>7.0</td>\n",
       "    </tr>\n",
       "    <tr>\n",
       "      <th>E_Germany</th>\n",
       "      <td>4.2</td>\n",
       "      <td>2.9</td>\n",
       "      <td>41.2</td>\n",
       "      <td>1.3</td>\n",
       "      <td>7.6</td>\n",
       "      <td>11.2</td>\n",
       "      <td>1.2</td>\n",
       "      <td>22.1</td>\n",
       "      <td>8.4</td>\n",
       "    </tr>\n",
       "    <tr>\n",
       "      <th>Hungary</th>\n",
       "      <td>21.7</td>\n",
       "      <td>3.1</td>\n",
       "      <td>29.6</td>\n",
       "      <td>1.9</td>\n",
       "      <td>8.2</td>\n",
       "      <td>9.4</td>\n",
       "      <td>0.9</td>\n",
       "      <td>17.2</td>\n",
       "      <td>8.0</td>\n",
       "    </tr>\n",
       "    <tr>\n",
       "      <th>Poland</th>\n",
       "      <td>31.1</td>\n",
       "      <td>2.5</td>\n",
       "      <td>25.7</td>\n",
       "      <td>0.9</td>\n",
       "      <td>8.4</td>\n",
       "      <td>7.5</td>\n",
       "      <td>0.9</td>\n",
       "      <td>16.1</td>\n",
       "      <td>6.9</td>\n",
       "    </tr>\n",
       "    <tr>\n",
       "      <th>Rumania</th>\n",
       "      <td>34.7</td>\n",
       "      <td>2.1</td>\n",
       "      <td>30.1</td>\n",
       "      <td>0.6</td>\n",
       "      <td>8.7</td>\n",
       "      <td>5.9</td>\n",
       "      <td>1.3</td>\n",
       "      <td>11.7</td>\n",
       "      <td>5.0</td>\n",
       "    </tr>\n",
       "    <tr>\n",
       "      <th>USSR</th>\n",
       "      <td>23.7</td>\n",
       "      <td>1.4</td>\n",
       "      <td>25.8</td>\n",
       "      <td>0.6</td>\n",
       "      <td>9.2</td>\n",
       "      <td>6.1</td>\n",
       "      <td>0.5</td>\n",
       "      <td>23.6</td>\n",
       "      <td>9.3</td>\n",
       "    </tr>\n",
       "    <tr>\n",
       "      <th>Yugoslavia</th>\n",
       "      <td>48.7</td>\n",
       "      <td>1.5</td>\n",
       "      <td>16.8</td>\n",
       "      <td>1.1</td>\n",
       "      <td>4.9</td>\n",
       "      <td>6.4</td>\n",
       "      <td>11.3</td>\n",
       "      <td>5.3</td>\n",
       "      <td>4.0</td>\n",
       "    </tr>\n",
       "  </tbody>\n",
       "</table>\n",
       "</div>"
      ],
      "text/plain": [
       "                 Agr  Min   Man   PS   Con    SI   Fin   SPS   TC\n",
       "Country                                                          \n",
       "Belgium          3.3  0.9  27.6  0.9   8.2  19.1   6.2  26.6  7.2\n",
       "Denmark          9.2  0.1  21.8  0.6   8.3  14.6   6.5  32.2  7.1\n",
       "France          10.8  0.8  27.5  0.9   8.9  16.8   6.0  22.6  5.7\n",
       "W_Germany        6.7  1.3  35.8  0.9   7.3  14.4   5.0  22.3  6.1\n",
       "Ireland         23.2  1.0  20.7  1.3   7.5  16.8   2.8  20.8  6.1\n",
       "Italy           15.9  0.6  27.6  0.5  10.0  18.1   1.6  20.1  5.7\n",
       "Luxembourg       7.7  3.1  30.8  0.8   9.2  18.5   4.6  19.2  6.2\n",
       "Netherlands      6.3  0.1  22.5  1.0   9.9  18.0   6.8  28.5  6.8\n",
       "United_Kingdom   2.7  1.4  30.2  1.4   6.9  16.9   5.7  28.3  6.4\n",
       "Austria         12.7  1.1  30.2  1.4   9.0  16.8   4.9  16.8  7.0\n",
       "Finland         13.0  0.4  25.9  1.3   7.4  14.7   5.5  24.3  7.6\n",
       "Greece          41.4  0.6  17.6  0.6   8.1  11.5   2.4  11.0  6.7\n",
       "Norway           9.0  0.5  22.4  0.8   8.6  16.9   4.7  27.6  9.4\n",
       "Portugal        27.8  0.3  24.5  0.6   8.4  13.3   2.7  16.7  5.7\n",
       "Spain           22.9  0.8  28.5  0.7  11.5   9.7   8.5  11.8  5.5\n",
       "Sweden           6.1  0.4  25.9  0.8   7.2  14.4   6.0  32.4  6.8\n",
       "Switzerland      7.7  0.2  37.8  0.8   9.5  17.5   5.3  15.4  5.7\n",
       "Turkey          66.8  0.7   7.9  0.1   2.8   5.2   1.1  11.9  3.2\n",
       "Bulgaria        23.6  1.9  32.3  0.6   7.9   8.0   0.7  18.2  6.7\n",
       "Czechoslovakia  16.5  2.9  35.5  1.2   8.7   9.2   0.9  17.9  7.0\n",
       "E_Germany        4.2  2.9  41.2  1.3   7.6  11.2   1.2  22.1  8.4\n",
       "Hungary         21.7  3.1  29.6  1.9   8.2   9.4   0.9  17.2  8.0\n",
       "Poland          31.1  2.5  25.7  0.9   8.4   7.5   0.9  16.1  6.9\n",
       "Rumania         34.7  2.1  30.1  0.6   8.7   5.9   1.3  11.7  5.0\n",
       "USSR            23.7  1.4  25.8  0.6   9.2   6.1   0.5  23.6  9.3\n",
       "Yugoslavia      48.7  1.5  16.8  1.1   4.9   6.4  11.3   5.3  4.0"
      ]
     },
     "execution_count": 37,
     "metadata": {},
     "output_type": "execute_result"
    }
   ],
   "source": [
    "df"
   ]
  },
  {
   "cell_type": "code",
   "execution_count": 39,
   "metadata": {},
   "outputs": [
    {
     "data": {
      "text/plain": [
       "array([[0.26666667, 0.59159159, 0.44444444, 0.62068966, 1.        ,\n",
       "        0.52777778, 0.78597786, 0.64516129],\n",
       "       [0.        , 0.41741742, 0.27777778, 0.63218391, 0.67625899,\n",
       "        0.55555556, 0.99261993, 0.62903226],\n",
       "       [0.23333333, 0.58858859, 0.44444444, 0.70114943, 0.83453237,\n",
       "        0.50925926, 0.63837638, 0.40322581],\n",
       "       [0.4       , 0.83783784, 0.44444444, 0.51724138, 0.6618705 ,\n",
       "        0.41666667, 0.62730627, 0.46774194],\n",
       "       [0.3       , 0.38438438, 0.66666667, 0.54022989, 0.83453237,\n",
       "        0.21296296, 0.57195572, 0.46774194],\n",
       "       [0.16666667, 0.59159159, 0.22222222, 0.82758621, 0.92805755,\n",
       "        0.10185185, 0.54612546, 0.40322581],\n",
       "       [1.        , 0.68768769, 0.38888889, 0.73563218, 0.95683453,\n",
       "        0.37962963, 0.51291513, 0.48387097],\n",
       "       [0.        , 0.43843844, 0.5       , 0.81609195, 0.92086331,\n",
       "        0.58333333, 0.85608856, 0.58064516],\n",
       "       [0.43333333, 0.66966967, 0.72222222, 0.47126437, 0.84172662,\n",
       "        0.48148148, 0.84870849, 0.51612903],\n",
       "       [0.33333333, 0.66966967, 0.72222222, 0.71264368, 0.83453237,\n",
       "        0.40740741, 0.42435424, 0.61290323],\n",
       "       [0.1       , 0.54054054, 0.66666667, 0.52873563, 0.68345324,\n",
       "        0.46296296, 0.70110701, 0.70967742],\n",
       "       [0.16666667, 0.29129129, 0.27777778, 0.6091954 , 0.45323741,\n",
       "        0.17592593, 0.2103321 , 0.56451613],\n",
       "       [0.13333333, 0.43543544, 0.38888889, 0.66666667, 0.84172662,\n",
       "        0.38888889, 0.82287823, 1.        ],\n",
       "       [0.06666667, 0.4984985 , 0.27777778, 0.64367816, 0.58273381,\n",
       "        0.2037037 , 0.42066421, 0.40322581],\n",
       "       [0.23333333, 0.61861862, 0.33333333, 1.        , 0.32374101,\n",
       "        0.74074074, 0.2398524 , 0.37096774],\n",
       "       [0.1       , 0.54054054, 0.38888889, 0.50574713, 0.6618705 ,\n",
       "        0.50925926, 1.        , 0.58064516],\n",
       "       [0.03333333, 0.8978979 , 0.38888889, 0.77011494, 0.88489209,\n",
       "        0.44444444, 0.37269373, 0.40322581],\n",
       "       [0.2       , 0.        , 0.        , 0.        , 0.        ,\n",
       "        0.05555556, 0.24354244, 0.        ],\n",
       "       [0.6       , 0.73273273, 0.27777778, 0.5862069 , 0.20143885,\n",
       "        0.01851852, 0.47601476, 0.56451613],\n",
       "       [0.93333333, 0.82882883, 0.61111111, 0.67816092, 0.28776978,\n",
       "        0.03703704, 0.46494465, 0.61290323],\n",
       "       [0.93333333, 1.        , 0.66666667, 0.55172414, 0.43165468,\n",
       "        0.06481481, 0.6199262 , 0.83870968],\n",
       "       [1.        , 0.65165165, 1.        , 0.62068966, 0.30215827,\n",
       "        0.03703704, 0.43911439, 0.77419355],\n",
       "       [0.8       , 0.53453453, 0.44444444, 0.64367816, 0.16546763,\n",
       "        0.03703704, 0.39852399, 0.59677419],\n",
       "       [0.66666667, 0.66666667, 0.27777778, 0.67816092, 0.05035971,\n",
       "        0.07407407, 0.23616236, 0.29032258],\n",
       "       [0.43333333, 0.53753754, 0.27777778, 0.73563218, 0.0647482 ,\n",
       "        0.        , 0.67527675, 0.98387097],\n",
       "       [0.46666667, 0.26726727, 0.55555556, 0.24137931, 0.08633094,\n",
       "        1.        , 0.        , 0.12903226]])"
      ]
     },
     "execution_count": 39,
     "metadata": {},
     "output_type": "execute_result"
    }
   ],
   "source": [
    "from sklearn import preprocessing\n",
    "X2=df.values[:,1:]\n",
    "data_norm=preprocessing.MinMaxScaler().fit_transform(X2)\n",
    "X2"
   ]
  },
  {
   "cell_type": "code",
   "execution_count": 44,
   "metadata": {},
   "outputs": [
    {
     "data": {
      "image/png": "[encoded data removed]",
      "text/plain": [
       "<Figure size 432x288 with 1 Axes>"
      ]
     },
     "metadata": {
      "needs_background": "light"
     },
     "output_type": "display_data"
    }
   ],
   "source": [
    "link=linkage(X2, 'ward','euclidean')\n",
    "dn=dendrogram(link,orientation=\"right\")"
   ]
  },
  {
   "cell_type": "markdown",
   "metadata": {},
   "source": [
    "### Исходя из первоначальной визуализации, можно сказать, что необходимо выделить 2-3 кластера."
   ]
  },
  {
   "cell_type": "code",
   "execution_count": 46,
   "metadata": {},
   "outputs": [
    {
     "data": {
      "image/png": "[encoded data removed]",
      "text/plain": [
       "<Figure size 432x288 with 1 Axes>"
      ]
     },
     "metadata": {
      "needs_background": "light"
     },
     "output_type": "display_data"
    }
   ],
   "source": [
    "K=range(2,15)\n",
    "#Перебираем значения к, списковое включение\n",
    "MODELS=[KMeans(n_clusters=k,random_state=29).fit(X2) for k in K]\n",
    "\n",
    "#Находим значение критерия качества\n",
    "dist=[i.inertia_ for i in MODELS]\n",
    "\n",
    "#Строим график\n",
    "plt.plot(K,dist,marker=\"o\")\n",
    "plt.xlabel(\"k - количество кластеров\")\n",
    "plt.ylabel(\"Сумма расстояний\")\n",
    "plt.title(\"Метод Elbow \")\n",
    "plt.show()"
   ]
  },
  {
   "cell_type": "markdown",
   "metadata": {},
   "source": [
    "### Из графика видно,что хорошим вариантом является разделение на два кластера, однако неплохим вариантом является и разделение на три кластера."
   ]
  },
  {
   "cell_type": "code",
   "execution_count": 48,
   "metadata": {},
   "outputs": [
    {
     "name": "stdout",
     "output_type": "stream",
     "text": [
      "Silhouette score for 2 clusters:\t0.30\n",
      "Silhouette score for 3 clusters:\t0.35\n",
      "Silhouette score for 4 clusters:\t0.17\n",
      "Silhouette score for 5 clusters:\t0.20\n",
      "Silhouette score for 6 clusters:\t0.21\n",
      "Silhouette score for 7 clusters:\t0.20\n",
      "Silhouette score for 8 clusters:\t0.21\n",
      "Silhouette score for 9 clusters:\t0.20\n",
      "Silhouette score for 10 clusters:\t0.21\n",
      "Silhouette score for 11 clusters:\t0.17\n",
      "Silhouette score for 12 clusters:\t0.17\n",
      "Silhouette score for 13 clusters:\t0.15\n"
     ]
    }
   ],
   "source": [
    "s_sc=[]\n",
    "K=range(2,14)\n",
    "for i in K:\n",
    "    model = KMeans(n_clusters=i, random_state=42).fit(X2)\n",
    "    s_sc.append(float(silhouette_score(X2, model.labels_)))\n",
    "    print('Silhouette score for {} clusters:\\t{:.2f}'.format(i, float(silhouette_score(X2, model.labels_))))"
   ]
  },
  {
   "cell_type": "code",
   "execution_count": 49,
   "metadata": {},
   "outputs": [
    {
     "data": {
      "image/png": "[encoded data removed]",
      "text/plain": [
       "<Figure size 432x288 with 1 Axes>"
      ]
     },
     "metadata": {
      "needs_background": "light"
     },
     "output_type": "display_data"
    }
   ],
   "source": [
    "plt.plot(K,s_sc, color='blue')\n",
    "plt.xlabel(\"k\")\n",
    "plt.ylabel(\"Значение силуэта\")\n",
    "plt.show()"
   ]
  },
  {
   "cell_type": "markdown",
   "metadata": {},
   "source": [
    "### Наибольшее значение силуэта при делении на три кластера. Таким образом, необходимо использовать разделение на три кластера"
   ]
  },
  {
   "cell_type": "markdown",
   "metadata": {},
   "source": [
    "### Рассмотрим дендрограмму для разделения на 3 и 2 кластера:"
   ]
  },
  {
   "cell_type": "code",
   "execution_count": 51,
   "metadata": {},
   "outputs": [
    {
     "data": {
      "image/png": "[encoded data removed]",
      "text/plain": [
       "<Figure size 432x288 with 1 Axes>"
      ]
     },
     "metadata": {
      "needs_background": "light"
     },
     "output_type": "display_data"
    }
   ],
   "source": [
    "kmeans = KMeans(n_clusters=3,random_state=42)\n",
    "kmeans.fit(X2)\n",
    "y_kmeans = kmeans.predict(X2)\n",
    "\n",
    "plt.scatter(X2[:, 0], X2[:, 1], c=y_kmeans)\n",
    "\n",
    "centers = kmeans.cluster_centers_\n",
    "plt.scatter(centers[:, 0], centers[:, 1],c='black', s=100, alpha=0.5);"
   ]
  },
  {
   "cell_type": "code",
   "execution_count": 52,
   "metadata": {},
   "outputs": [
    {
     "data": {
      "image/png": "[encoded data removed]",
      "text/plain": [
       "<Figure size 432x288 with 1 Axes>"
      ]
     },
     "metadata": {
      "needs_background": "light"
     },
     "output_type": "display_data"
    }
   ],
   "source": [
    "kmeans = KMeans(n_clusters=2,random_state=42)\n",
    "kmeans.fit(X2)\n",
    "y_kmeans = kmeans.predict(X2)\n",
    "\n",
    "plt.scatter(X2[:, 0], X2[:, 1], c=y_kmeans)\n",
    "\n",
    "centers = kmeans.cluster_centers_\n",
    "plt.scatter(centers[:, 0], centers[:, 1],c='black', s=100, alpha=0.5);"
   ]
  },
  {
   "cell_type": "markdown",
   "metadata": {},
   "source": [
    "### Лучшим вариантом разделения является разделение на три кластера"
   ]
  },
  {
   "cell_type": "code",
   "execution_count": 53,
   "metadata": {},
   "outputs": [
    {
     "data": {
      "text/html": [
       "<div>\n",
       "<style scoped>\n",
       "    .dataframe tbody tr th:only-of-type {\n",
       "        vertical-align: middle;\n",
       "    }\n",
       "\n",
       "    .dataframe tbody tr th {\n",
       "        vertical-align: top;\n",
       "    }\n",
       "\n",
       "    .dataframe thead th {\n",
       "        text-align: right;\n",
       "    }\n",
       "</style>\n",
       "<table border=\"1\" class=\"dataframe\">\n",
       "  <thead>\n",
       "    <tr style=\"text-align: right;\">\n",
       "      <th></th>\n",
       "      <th>Agr</th>\n",
       "      <th>Min</th>\n",
       "      <th>Man</th>\n",
       "      <th>PS</th>\n",
       "      <th>Con</th>\n",
       "      <th>SI</th>\n",
       "      <th>Fin</th>\n",
       "      <th>SPS</th>\n",
       "      <th>TC</th>\n",
       "      <th>cluster</th>\n",
       "    </tr>\n",
       "    <tr>\n",
       "      <th>Country</th>\n",
       "      <th></th>\n",
       "      <th></th>\n",
       "      <th></th>\n",
       "      <th></th>\n",
       "      <th></th>\n",
       "      <th></th>\n",
       "      <th></th>\n",
       "      <th></th>\n",
       "      <th></th>\n",
       "      <th></th>\n",
       "    </tr>\n",
       "  </thead>\n",
       "  <tbody>\n",
       "    <tr>\n",
       "      <th>Belgium</th>\n",
       "      <td>0.009360</td>\n",
       "      <td>0.266667</td>\n",
       "      <td>0.591592</td>\n",
       "      <td>0.444444</td>\n",
       "      <td>0.620690</td>\n",
       "      <td>1.000000</td>\n",
       "      <td>0.527778</td>\n",
       "      <td>0.785978</td>\n",
       "      <td>0.645161</td>\n",
       "      <td>0</td>\n",
       "    </tr>\n",
       "    <tr>\n",
       "      <th>Denmark</th>\n",
       "      <td>0.101404</td>\n",
       "      <td>0.000000</td>\n",
       "      <td>0.417417</td>\n",
       "      <td>0.277778</td>\n",
       "      <td>0.632184</td>\n",
       "      <td>0.676259</td>\n",
       "      <td>0.555556</td>\n",
       "      <td>0.992620</td>\n",
       "      <td>0.629032</td>\n",
       "      <td>0</td>\n",
       "    </tr>\n",
       "    <tr>\n",
       "      <th>France</th>\n",
       "      <td>0.126365</td>\n",
       "      <td>0.233333</td>\n",
       "      <td>0.588589</td>\n",
       "      <td>0.444444</td>\n",
       "      <td>0.701149</td>\n",
       "      <td>0.834532</td>\n",
       "      <td>0.509259</td>\n",
       "      <td>0.638376</td>\n",
       "      <td>0.403226</td>\n",
       "      <td>0</td>\n",
       "    </tr>\n",
       "    <tr>\n",
       "      <th>W_Germany</th>\n",
       "      <td>0.062402</td>\n",
       "      <td>0.400000</td>\n",
       "      <td>0.837838</td>\n",
       "      <td>0.444444</td>\n",
       "      <td>0.517241</td>\n",
       "      <td>0.661871</td>\n",
       "      <td>0.416667</td>\n",
       "      <td>0.627306</td>\n",
       "      <td>0.467742</td>\n",
       "      <td>0</td>\n",
       "    </tr>\n",
       "    <tr>\n",
       "      <th>Ireland</th>\n",
       "      <td>0.319813</td>\n",
       "      <td>0.300000</td>\n",
       "      <td>0.384384</td>\n",
       "      <td>0.666667</td>\n",
       "      <td>0.540230</td>\n",
       "      <td>0.834532</td>\n",
       "      <td>0.212963</td>\n",
       "      <td>0.571956</td>\n",
       "      <td>0.467742</td>\n",
       "      <td>0</td>\n",
       "    </tr>\n",
       "    <tr>\n",
       "      <th>Italy</th>\n",
       "      <td>0.205928</td>\n",
       "      <td>0.166667</td>\n",
       "      <td>0.591592</td>\n",
       "      <td>0.222222</td>\n",
       "      <td>0.827586</td>\n",
       "      <td>0.928058</td>\n",
       "      <td>0.101852</td>\n",
       "      <td>0.546125</td>\n",
       "      <td>0.403226</td>\n",
       "      <td>0</td>\n",
       "    </tr>\n",
       "    <tr>\n",
       "      <th>Luxembourg</th>\n",
       "      <td>0.078003</td>\n",
       "      <td>1.000000</td>\n",
       "      <td>0.687688</td>\n",
       "      <td>0.388889</td>\n",
       "      <td>0.735632</td>\n",
       "      <td>0.956835</td>\n",
       "      <td>0.379630</td>\n",
       "      <td>0.512915</td>\n",
       "      <td>0.483871</td>\n",
       "      <td>0</td>\n",
       "    </tr>\n",
       "    <tr>\n",
       "      <th>Netherlands</th>\n",
       "      <td>0.056162</td>\n",
       "      <td>0.000000</td>\n",
       "      <td>0.438438</td>\n",
       "      <td>0.500000</td>\n",
       "      <td>0.816092</td>\n",
       "      <td>0.920863</td>\n",
       "      <td>0.583333</td>\n",
       "      <td>0.856089</td>\n",
       "      <td>0.580645</td>\n",
       "      <td>0</td>\n",
       "    </tr>\n",
       "    <tr>\n",
       "      <th>United_Kingdom</th>\n",
       "      <td>0.000000</td>\n",
       "      <td>0.433333</td>\n",
       "      <td>0.669670</td>\n",
       "      <td>0.722222</td>\n",
       "      <td>0.471264</td>\n",
       "      <td>0.841727</td>\n",
       "      <td>0.481481</td>\n",
       "      <td>0.848708</td>\n",
       "      <td>0.516129</td>\n",
       "      <td>0</td>\n",
       "    </tr>\n",
       "    <tr>\n",
       "      <th>Austria</th>\n",
       "      <td>0.156006</td>\n",
       "      <td>0.333333</td>\n",
       "      <td>0.669670</td>\n",
       "      <td>0.722222</td>\n",
       "      <td>0.712644</td>\n",
       "      <td>0.834532</td>\n",
       "      <td>0.407407</td>\n",
       "      <td>0.424354</td>\n",
       "      <td>0.612903</td>\n",
       "      <td>0</td>\n",
       "    </tr>\n",
       "    <tr>\n",
       "      <th>Finland</th>\n",
       "      <td>0.160686</td>\n",
       "      <td>0.100000</td>\n",
       "      <td>0.540541</td>\n",
       "      <td>0.666667</td>\n",
       "      <td>0.528736</td>\n",
       "      <td>0.683453</td>\n",
       "      <td>0.462963</td>\n",
       "      <td>0.701107</td>\n",
       "      <td>0.709677</td>\n",
       "      <td>0</td>\n",
       "    </tr>\n",
       "    <tr>\n",
       "      <th>Greece</th>\n",
       "      <td>0.603744</td>\n",
       "      <td>0.166667</td>\n",
       "      <td>0.291291</td>\n",
       "      <td>0.277778</td>\n",
       "      <td>0.609195</td>\n",
       "      <td>0.453237</td>\n",
       "      <td>0.175926</td>\n",
       "      <td>0.210332</td>\n",
       "      <td>0.564516</td>\n",
       "      <td>0</td>\n",
       "    </tr>\n",
       "    <tr>\n",
       "      <th>Norway</th>\n",
       "      <td>0.098284</td>\n",
       "      <td>0.133333</td>\n",
       "      <td>0.435435</td>\n",
       "      <td>0.388889</td>\n",
       "      <td>0.666667</td>\n",
       "      <td>0.841727</td>\n",
       "      <td>0.388889</td>\n",
       "      <td>0.822878</td>\n",
       "      <td>1.000000</td>\n",
       "      <td>0</td>\n",
       "    </tr>\n",
       "    <tr>\n",
       "      <th>Portugal</th>\n",
       "      <td>0.391576</td>\n",
       "      <td>0.066667</td>\n",
       "      <td>0.498498</td>\n",
       "      <td>0.277778</td>\n",
       "      <td>0.643678</td>\n",
       "      <td>0.582734</td>\n",
       "      <td>0.203704</td>\n",
       "      <td>0.420664</td>\n",
       "      <td>0.403226</td>\n",
       "      <td>0</td>\n",
       "    </tr>\n",
       "    <tr>\n",
       "      <th>Spain</th>\n",
       "      <td>0.315133</td>\n",
       "      <td>0.233333</td>\n",
       "      <td>0.618619</td>\n",
       "      <td>0.333333</td>\n",
       "      <td>1.000000</td>\n",
       "      <td>0.323741</td>\n",
       "      <td>0.740741</td>\n",
       "      <td>0.239852</td>\n",
       "      <td>0.370968</td>\n",
       "      <td>0</td>\n",
       "    </tr>\n",
       "    <tr>\n",
       "      <th>Sweden</th>\n",
       "      <td>0.053042</td>\n",
       "      <td>0.100000</td>\n",
       "      <td>0.540541</td>\n",
       "      <td>0.388889</td>\n",
       "      <td>0.505747</td>\n",
       "      <td>0.661871</td>\n",
       "      <td>0.509259</td>\n",
       "      <td>1.000000</td>\n",
       "      <td>0.580645</td>\n",
       "      <td>0</td>\n",
       "    </tr>\n",
       "    <tr>\n",
       "      <th>Switzerland</th>\n",
       "      <td>0.078003</td>\n",
       "      <td>0.033333</td>\n",
       "      <td>0.897898</td>\n",
       "      <td>0.388889</td>\n",
       "      <td>0.770115</td>\n",
       "      <td>0.884892</td>\n",
       "      <td>0.444444</td>\n",
       "      <td>0.372694</td>\n",
       "      <td>0.403226</td>\n",
       "      <td>0</td>\n",
       "    </tr>\n",
       "    <tr>\n",
       "      <th>Turkey</th>\n",
       "      <td>1.000000</td>\n",
       "      <td>0.200000</td>\n",
       "      <td>0.000000</td>\n",
       "      <td>0.000000</td>\n",
       "      <td>0.000000</td>\n",
       "      <td>0.000000</td>\n",
       "      <td>0.055556</td>\n",
       "      <td>0.243542</td>\n",
       "      <td>0.000000</td>\n",
       "      <td>1</td>\n",
       "    </tr>\n",
       "    <tr>\n",
       "      <th>Bulgaria</th>\n",
       "      <td>0.326053</td>\n",
       "      <td>0.600000</td>\n",
       "      <td>0.732733</td>\n",
       "      <td>0.277778</td>\n",
       "      <td>0.586207</td>\n",
       "      <td>0.201439</td>\n",
       "      <td>0.018519</td>\n",
       "      <td>0.476015</td>\n",
       "      <td>0.564516</td>\n",
       "      <td>2</td>\n",
       "    </tr>\n",
       "    <tr>\n",
       "      <th>Czechoslovakia</th>\n",
       "      <td>0.215289</td>\n",
       "      <td>0.933333</td>\n",
       "      <td>0.828829</td>\n",
       "      <td>0.611111</td>\n",
       "      <td>0.678161</td>\n",
       "      <td>0.287770</td>\n",
       "      <td>0.037037</td>\n",
       "      <td>0.464945</td>\n",
       "      <td>0.612903</td>\n",
       "      <td>2</td>\n",
       "    </tr>\n",
       "    <tr>\n",
       "      <th>E_Germany</th>\n",
       "      <td>0.023401</td>\n",
       "      <td>0.933333</td>\n",
       "      <td>1.000000</td>\n",
       "      <td>0.666667</td>\n",
       "      <td>0.551724</td>\n",
       "      <td>0.431655</td>\n",
       "      <td>0.064815</td>\n",
       "      <td>0.619926</td>\n",
       "      <td>0.838710</td>\n",
       "      <td>2</td>\n",
       "    </tr>\n",
       "    <tr>\n",
       "      <th>Hungary</th>\n",
       "      <td>0.296412</td>\n",
       "      <td>1.000000</td>\n",
       "      <td>0.651652</td>\n",
       "      <td>1.000000</td>\n",
       "      <td>0.620690</td>\n",
       "      <td>0.302158</td>\n",
       "      <td>0.037037</td>\n",
       "      <td>0.439114</td>\n",
       "      <td>0.774194</td>\n",
       "      <td>2</td>\n",
       "    </tr>\n",
       "    <tr>\n",
       "      <th>Poland</th>\n",
       "      <td>0.443058</td>\n",
       "      <td>0.800000</td>\n",
       "      <td>0.534535</td>\n",
       "      <td>0.444444</td>\n",
       "      <td>0.643678</td>\n",
       "      <td>0.165468</td>\n",
       "      <td>0.037037</td>\n",
       "      <td>0.398524</td>\n",
       "      <td>0.596774</td>\n",
       "      <td>2</td>\n",
       "    </tr>\n",
       "    <tr>\n",
       "      <th>Rumania</th>\n",
       "      <td>0.499220</td>\n",
       "      <td>0.666667</td>\n",
       "      <td>0.666667</td>\n",
       "      <td>0.277778</td>\n",
       "      <td>0.678161</td>\n",
       "      <td>0.050360</td>\n",
       "      <td>0.074074</td>\n",
       "      <td>0.236162</td>\n",
       "      <td>0.290323</td>\n",
       "      <td>2</td>\n",
       "    </tr>\n",
       "    <tr>\n",
       "      <th>USSR</th>\n",
       "      <td>0.327613</td>\n",
       "      <td>0.433333</td>\n",
       "      <td>0.537538</td>\n",
       "      <td>0.277778</td>\n",
       "      <td>0.735632</td>\n",
       "      <td>0.064748</td>\n",
       "      <td>0.000000</td>\n",
       "      <td>0.675277</td>\n",
       "      <td>0.983871</td>\n",
       "      <td>2</td>\n",
       "    </tr>\n",
       "    <tr>\n",
       "      <th>Yugoslavia</th>\n",
       "      <td>0.717629</td>\n",
       "      <td>0.466667</td>\n",
       "      <td>0.267267</td>\n",
       "      <td>0.555556</td>\n",
       "      <td>0.241379</td>\n",
       "      <td>0.086331</td>\n",
       "      <td>1.000000</td>\n",
       "      <td>0.000000</td>\n",
       "      <td>0.129032</td>\n",
       "      <td>1</td>\n",
       "    </tr>\n",
       "  </tbody>\n",
       "</table>\n",
       "</div>"
      ],
      "text/plain": [
       "                     Agr       Min       Man        PS       Con        SI  \\\n",
       "Country                                                                      \n",
       "Belgium         0.009360  0.266667  0.591592  0.444444  0.620690  1.000000   \n",
       "Denmark         0.101404  0.000000  0.417417  0.277778  0.632184  0.676259   \n",
       "France          0.126365  0.233333  0.588589  0.444444  0.701149  0.834532   \n",
       "W_Germany       0.062402  0.400000  0.837838  0.444444  0.517241  0.661871   \n",
       "Ireland         0.319813  0.300000  0.384384  0.666667  0.540230  0.834532   \n",
       "Italy           0.205928  0.166667  0.591592  0.222222  0.827586  0.928058   \n",
       "Luxembourg      0.078003  1.000000  0.687688  0.388889  0.735632  0.956835   \n",
       "Netherlands     0.056162  0.000000  0.438438  0.500000  0.816092  0.920863   \n",
       "United_Kingdom  0.000000  0.433333  0.669670  0.722222  0.471264  0.841727   \n",
       "Austria         0.156006  0.333333  0.669670  0.722222  0.712644  0.834532   \n",
       "Finland         0.160686  0.100000  0.540541  0.666667  0.528736  0.683453   \n",
       "Greece          0.603744  0.166667  0.291291  0.277778  0.609195  0.453237   \n",
       "Norway          0.098284  0.133333  0.435435  0.388889  0.666667  0.841727   \n",
       "Portugal        0.391576  0.066667  0.498498  0.277778  0.643678  0.582734   \n",
       "Spain           0.315133  0.233333  0.618619  0.333333  1.000000  0.323741   \n",
       "Sweden          0.053042  0.100000  0.540541  0.388889  0.505747  0.661871   \n",
       "Switzerland     0.078003  0.033333  0.897898  0.388889  0.770115  0.884892   \n",
       "Turkey          1.000000  0.200000  0.000000  0.000000  0.000000  0.000000   \n",
       "Bulgaria        0.326053  0.600000  0.732733  0.277778  0.586207  0.201439   \n",
       "Czechoslovakia  0.215289  0.933333  0.828829  0.611111  0.678161  0.287770   \n",
       "E_Germany       0.023401  0.933333  1.000000  0.666667  0.551724  0.431655   \n",
       "Hungary         0.296412  1.000000  0.651652  1.000000  0.620690  0.302158   \n",
       "Poland          0.443058  0.800000  0.534535  0.444444  0.643678  0.165468   \n",
       "Rumania         0.499220  0.666667  0.666667  0.277778  0.678161  0.050360   \n",
       "USSR            0.327613  0.433333  0.537538  0.277778  0.735632  0.064748   \n",
       "Yugoslavia      0.717629  0.466667  0.267267  0.555556  0.241379  0.086331   \n",
       "\n",
       "                     Fin       SPS        TC  cluster  \n",
       "Country                                                \n",
       "Belgium         0.527778  0.785978  0.645161        0  \n",
       "Denmark         0.555556  0.992620  0.629032        0  \n",
       "France          0.509259  0.638376  0.403226        0  \n",
       "W_Germany       0.416667  0.627306  0.467742        0  \n",
       "Ireland         0.212963  0.571956  0.467742        0  \n",
       "Italy           0.101852  0.546125  0.403226        0  \n",
       "Luxembourg      0.379630  0.512915  0.483871        0  \n",
       "Netherlands     0.583333  0.856089  0.580645        0  \n",
       "United_Kingdom  0.481481  0.848708  0.516129        0  \n",
       "Austria         0.407407  0.424354  0.612903        0  \n",
       "Finland         0.462963  0.701107  0.709677        0  \n",
       "Greece          0.175926  0.210332  0.564516        0  \n",
       "Norway          0.388889  0.822878  1.000000        0  \n",
       "Portugal        0.203704  0.420664  0.403226        0  \n",
       "Spain           0.740741  0.239852  0.370968        0  \n",
       "Sweden          0.509259  1.000000  0.580645        0  \n",
       "Switzerland     0.444444  0.372694  0.403226        0  \n",
       "Turkey          0.055556  0.243542  0.000000        1  \n",
       "Bulgaria        0.018519  0.476015  0.564516        2  \n",
       "Czechoslovakia  0.037037  0.464945  0.612903        2  \n",
       "E_Germany       0.064815  0.619926  0.838710        2  \n",
       "Hungary         0.037037  0.439114  0.774194        2  \n",
       "Poland          0.037037  0.398524  0.596774        2  \n",
       "Rumania         0.074074  0.236162  0.290323        2  \n",
       "USSR            0.000000  0.675277  0.983871        2  \n",
       "Yugoslavia      1.000000  0.000000  0.129032        1  "
      ]
     },
     "execution_count": 53,
     "metadata": {},
     "output_type": "execute_result"
    }
   ],
   "source": [
    "model = KMeans(n_clusters=3, random_state=42).fit(X)\n",
    "\n",
    "df['cluster'] = model.labels_\n",
    "df"
   ]
  },
  {
   "cell_type": "code",
   "execution_count": 56,
   "metadata": {},
   "outputs": [
    {
     "data": {
      "image/png": "[encoded data removed]",
      "text/plain": [
       "<Figure size 720x432 with 1 Axes>"
      ]
     },
     "metadata": {
      "needs_background": "light"
     },
     "output_type": "display_data"
    }
   ],
   "source": [
    "plt.figure(figsize=(10, 6))\n",
    "plt.plot(df.columns[np.arange(8)], X2[df['cluster'] == 0].mean(axis=0), label='cluster 0')\n",
    "plt.plot(df.columns[np.arange(8)], X2[df['cluster'] == 1].mean(axis=0), label='cluster 1')\n",
    "plt.plot(df.columns[np.arange(8)], X2[df['cluster'] == 2].mean(axis=0), label='cluster 2')\n",
    "plt.title('Стандартизированные средние значения по признакам в кластерах')\n",
    "plt.legend()\n",
    "plt.grid()\n",
    "plt.show()"
   ]
  },
  {
   "cell_type": "code",
   "execution_count": 59,
   "metadata": {},
   "outputs": [
    {
     "data": {
      "image/png": "[encoded data removed]",
      "text/plain": [
       "<Figure size 720x432 with 1 Axes>"
      ]
     },
     "metadata": {
      "needs_background": "light"
     },
     "output_type": "display_data"
    }
   ],
   "source": [
    "plt.figure(figsize=(10, 6))\n",
    "plt.plot(df.columns[np.arange(10)], df.values[df['cluster'] == 0].mean(axis=0), label='cluster 0')\n",
    "plt.plot(df.columns[np.arange(10)], df.values[df['cluster'] == 1].mean(axis=0), label='cluster 1')\n",
    "plt.plot(df.columns[np.arange(10)], df.values[df['cluster'] == 2].mean(axis=0), label='cluster 2')\n",
    "plt.title('Cредние значения по признакам в кластерах')\n",
    "plt.legend()\n",
    "plt.grid()\n",
    "plt.show()"
   ]
  },
  {
   "cell_type": "code",
   "execution_count": 60,
   "metadata": {},
   "outputs": [
    {
     "name": "stdout",
     "output_type": "stream",
     "text": [
      "Agr        0.165642\n",
      "Min        0.233333\n",
      "Man        0.570571\n",
      "PS         0.444444\n",
      "Con        0.664638\n",
      "SI         0.760051\n",
      "Fin        0.417756\n",
      "SPS        0.621880\n",
      "TC         0.543643\n",
      "cluster    0.000000\n",
      "dtype: float64\n",
      "Agr        0.858814\n",
      "Min        0.333333\n",
      "Man        0.133634\n",
      "PS         0.277778\n",
      "Con        0.120690\n",
      "SI         0.043165\n",
      "Fin        0.527778\n",
      "SPS        0.121771\n",
      "TC         0.064516\n",
      "cluster    1.000000\n",
      "dtype: float64\n",
      "Agr        0.304435\n",
      "Min        0.766667\n",
      "Man        0.707422\n",
      "PS         0.507937\n",
      "Con        0.642036\n",
      "SI         0.214800\n",
      "Fin        0.038360\n",
      "SPS        0.472852\n",
      "TC         0.665899\n",
      "cluster    2.000000\n",
      "dtype: float64\n"
     ]
    }
   ],
   "source": [
    "m_0 = df[df['cluster'] == 0].mean(axis=0) #среднее значение в кластере 0\n",
    "m_1 = df[df['cluster'] == 1].mean(axis=0) #среднее значение в кластере 1\n",
    "m_2 = df[df['cluster'] == 2].mean(axis=0) #среднее значение в кластере 2\n",
    "print(m_0)\n",
    "print(m_1)\n",
    "print(m_2)"
   ]
  },
  {
   "cell_type": "markdown",
   "metadata": {},
   "source": [
    "## Проверим значимость различия средних по показателям в кластерах"
   ]
  },
  {
   "cell_type": "markdown",
   "metadata": {},
   "source": [
    "#### Так как во втором кластере нет достаточного количества наблюдений (только 2 страны), то данные в этом кластере НЕнормально распределены"
   ]
  },
  {
   "cell_type": "code",
   "execution_count": 63,
   "metadata": {},
   "outputs": [
    {
     "data": {
      "text/plain": [
       "(ShapiroResult(statistic=0.8391872644424438, pvalue=0.007368097547441721),\n",
       " ShapiroResult(statistic=0.9426699876785278, pvalue=0.6628742814064026))"
      ]
     },
     "execution_count": 63,
     "metadata": {},
     "output_type": "execute_result"
    }
   ],
   "source": [
    "sps.shapiro(df[df['cluster']==0]['Agr']), sps.shapiro(df[df['cluster']==2]['Agr'])"
   ]
  },
  {
   "cell_type": "code",
   "execution_count": 66,
   "metadata": {},
   "outputs": [
    {
     "name": "stdout",
     "output_type": "stream",
     "text": [
      "Статистика=6.235, p=0.044\n",
      "H0 отклоняется\n"
     ]
    }
   ],
   "source": [
    "from scipy.stats import kruskal\n",
    "stat, p = kruskal(df[df['cluster'] == 0]['Agr'], df[df['Agr'] == 1]['Agr'],df[df['cluster'] == 2]['Agr'])  \n",
    "print('Статистика=%.3f, p=%.3f' % (stat, p))\n",
    "# вывод\n",
    "alpha = 0.05\n",
    "if p > alpha:\n",
    "    print('H0 не отклоняется')\n",
    "else:\n",
    "    print('H0 отклоняется')"
   ]
  },
  {
   "cell_type": "markdown",
   "metadata": {},
   "source": [
    "#### ВЫВОД: Гипотеза о равенстве средних Процентa занятых в сельском хозяйстве отклоняется"
   ]
  },
  {
   "cell_type": "code",
   "execution_count": 67,
   "metadata": {},
   "outputs": [
    {
     "data": {
      "text/plain": [
       "(ShapiroResult(statistic=0.788287341594696, pvalue=0.0014078787062317133),\n",
       " ShapiroResult(statistic=0.9300108551979065, pvalue=0.5509915351867676))"
      ]
     },
     "execution_count": 67,
     "metadata": {},
     "output_type": "execute_result"
    }
   ],
   "source": [
    "sps.shapiro(df[df['cluster']==0]['Min']), sps.shapiro(df[df['cluster']==2]['Min'])"
   ]
  },
  {
   "cell_type": "code",
   "execution_count": 68,
   "metadata": {},
   "outputs": [
    {
     "name": "stdout",
     "output_type": "stream",
     "text": [
      "Статистика=12.101, p=0.002\n",
      "H0 отклоняется\n"
     ]
    }
   ],
   "source": [
    "from scipy.stats import kruskal\n",
    "stat, p = kruskal(df[df['cluster'] == 0]['Min'], df[df['cluster'] == 1]['Min'],df[df['cluster'] == 2]['Min'])  \n",
    "print('Статистика=%.3f, p=%.3f' % (stat, p))\n",
    "# вывод\n",
    "alpha = 0.05\n",
    "if p > alpha:\n",
    "    print('H0 не отклоняется')\n",
    "else:\n",
    "    print('H0 отклоняется')"
   ]
  },
  {
   "cell_type": "markdown",
   "metadata": {},
   "source": [
    "#### ВЫВОД: Гипотеза о равенстве средних Процента занятых в горно-добывающей промышленности отклоняется"
   ]
  },
  {
   "cell_type": "code",
   "execution_count": 69,
   "metadata": {},
   "outputs": [
    {
     "data": {
      "text/plain": [
       "(ShapiroResult(statistic=0.9721276760101318, pvalue=0.8545507788658142),\n",
       " ShapiroResult(statistic=0.923385739326477, pvalue=0.4961520731449127))"
      ]
     },
     "execution_count": 69,
     "metadata": {},
     "output_type": "execute_result"
    }
   ],
   "source": [
    "sps.shapiro(df[df['cluster']==0]['Man']), sps.shapiro(df[df['cluster']==2]['Man'])"
   ]
  },
  {
   "cell_type": "code",
   "execution_count": 70,
   "metadata": {},
   "outputs": [
    {
     "name": "stdout",
     "output_type": "stream",
     "text": [
      "Статистика=7.245, p=0.027\n",
      "H0 отклоняется\n"
     ]
    }
   ],
   "source": [
    "from scipy.stats import kruskal\n",
    "stat, p = kruskal(df[df['cluster'] == 0]['Man'], df[df['cluster'] == 1]['Man'],df[df['cluster'] == 2]['Man'])  \n",
    "print('Статистика=%.3f, p=%.3f' % (stat, p))\n",
    "# вывод\n",
    "alpha = 0.05\n",
    "if p > alpha:\n",
    "    print('H0 не отклоняется')\n",
    "else:\n",
    "    print('H0 отклоняется')"
   ]
  },
  {
   "cell_type": "markdown",
   "metadata": {},
   "source": [
    "#### ВЫВОД: Гипотеза о равенстве средних Процентa занятых в производстве отклоняется"
   ]
  },
  {
   "cell_type": "code",
   "execution_count": 71,
   "metadata": {},
   "outputs": [
    {
     "data": {
      "text/plain": [
       "(ShapiroResult(statistic=0.8921448588371277, pvalue=0.05027073994278908),\n",
       " ShapiroResult(statistic=0.8575494885444641, pvalue=0.1439085602760315))"
      ]
     },
     "execution_count": 71,
     "metadata": {},
     "output_type": "execute_result"
    }
   ],
   "source": [
    "sps.shapiro(df[df['cluster']==0]['PS']), sps.shapiro(df[df['cluster']==2]['PS'])"
   ]
  },
  {
   "cell_type": "code",
   "execution_count": 72,
   "metadata": {},
   "outputs": [
    {
     "name": "stdout",
     "output_type": "stream",
     "text": [
      "Статистика=0.505, p=0.777\n",
      "H0 не отклоняется\n"
     ]
    }
   ],
   "source": [
    "from scipy.stats import kruskal\n",
    "stat, p = kruskal(df[df['cluster'] == 0]['PS'], df[df['cluster'] == 1]['PS'],df[df['cluster'] == 2]['PS'])  \n",
    "print('Статистика=%.3f, p=%.3f' % (stat, p))\n",
    "# вывод\n",
    "alpha = 0.05\n",
    "if p > alpha:\n",
    "    print('H0 не отклоняется')\n",
    "else:\n",
    "    print('H0 отклоняется')"
   ]
  },
  {
   "cell_type": "markdown",
   "metadata": {},
   "source": [
    "#### ВЫВОД: Гипотеза о равенстве средних Процента занятых в энергетике принимается"
   ]
  },
  {
   "cell_type": "code",
   "execution_count": 73,
   "metadata": {},
   "outputs": [
    {
     "data": {
      "text/plain": [
       "(ShapiroResult(statistic=0.9517549872398376, pvalue=0.48486313223838806),\n",
       " ShapiroResult(statistic=0.9813554286956787, pvalue=0.9658567905426025))"
      ]
     },
     "execution_count": 73,
     "metadata": {},
     "output_type": "execute_result"
    }
   ],
   "source": [
    "sps.shapiro(df[df['cluster']==0]['Con']), sps.shapiro(df[df['cluster']==2]['Con'])"
   ]
  },
  {
   "cell_type": "code",
   "execution_count": 79,
   "metadata": {},
   "outputs": [
    {
     "name": "stdout",
     "output_type": "stream",
     "text": [
      "Статистика=5.354, p=0.069\n",
      "H0 не отклоняется\n"
     ]
    }
   ],
   "source": [
    "from scipy.stats import kruskal\n",
    "stat, p = kruskal(df[df['cluster'] == 0]['Con'], df[df['cluster'] == 1]['Con'],df[df['cluster'] == 2]['Con'])  \n",
    "print('Статистика=%.3f, p=%.3f' % (stat, p))\n",
    "# вывод\n",
    "alpha = 0.05\n",
    "if p > alpha:\n",
    "    print('H0 не отклоняется')\n",
    "else:\n",
    "    print('H0 отклоняется')"
   ]
  },
  {
   "cell_type": "markdown",
   "metadata": {},
   "source": [
    "#### ВЫВОД: Гипотеза о равенстве средних Процентa занятых в строительстве принимается"
   ]
  },
  {
   "cell_type": "code",
   "execution_count": 74,
   "metadata": {},
   "outputs": [
    {
     "data": {
      "text/plain": [
       "(ShapiroResult(statistic=0.9104782342910767, pvalue=0.10191568732261658),\n",
       " ShapiroResult(statistic=0.9522059559822083, pvalue=0.749728798866272))"
      ]
     },
     "execution_count": 74,
     "metadata": {},
     "output_type": "execute_result"
    }
   ],
   "source": [
    "sps.shapiro(df[df['cluster']==0]['SI']), sps.shapiro(df[df['cluster']==2]['SI'])"
   ]
  },
  {
   "cell_type": "code",
   "execution_count": 80,
   "metadata": {},
   "outputs": [
    {
     "name": "stdout",
     "output_type": "stream",
     "text": [
      "Статистика=16.893, p=0.000\n",
      "H0 отклоняется\n"
     ]
    }
   ],
   "source": [
    "from scipy.stats import kruskal\n",
    "stat, p = kruskal(df[df['cluster'] == 0]['SI'], df[df['cluster'] == 1]['SI'],df[df['cluster'] == 2]['SI'])  \n",
    "print('Статистика=%.3f, p=%.3f' % (stat, p))\n",
    "# вывод\n",
    "alpha = 0.05\n",
    "if p > alpha:\n",
    "    print('H0 не отклоняется')\n",
    "else:\n",
    "    print('H0 отклоняется')"
   ]
  },
  {
   "cell_type": "markdown",
   "metadata": {},
   "source": [
    "#### ВЫВОД: Гипотеза о равенстве средних Процентa занятых в сфере услуг отклоняется"
   ]
  },
  {
   "cell_type": "code",
   "execution_count": 75,
   "metadata": {},
   "outputs": [
    {
     "data": {
      "text/plain": [
       "(ShapiroResult(statistic=0.9501447677612305, pvalue=0.45881375670433044),\n",
       " ShapiroResult(statistic=0.9418664574623108, pvalue=0.6555845141410828))"
      ]
     },
     "execution_count": 75,
     "metadata": {},
     "output_type": "execute_result"
    }
   ],
   "source": [
    "sps.shapiro(df[df['cluster']==0]['Fin']), sps.shapiro(df[df['cluster']==2]['Fin'])"
   ]
  },
  {
   "cell_type": "code",
   "execution_count": 81,
   "metadata": {},
   "outputs": [
    {
     "name": "stdout",
     "output_type": "stream",
     "text": [
      "Статистика=13.957, p=0.001\n",
      "H0 отклоняется\n"
     ]
    }
   ],
   "source": [
    "from scipy.stats import kruskal\n",
    "stat, p = kruskal(df[df['cluster'] == 0]['Fin'], df[df['cluster'] == 1]['Fin'],df[df['cluster'] == 2]['Fin'])  \n",
    "print('Статистика=%.3f, p=%.3f' % (stat, p))\n",
    "# вывод\n",
    "alpha = 0.05\n",
    "if p > alpha:\n",
    "    print('H0 не отклоняется')\n",
    "else:\n",
    "    print('H0 отклоняется')"
   ]
  },
  {
   "cell_type": "markdown",
   "metadata": {},
   "source": [
    "#### ВЫВОД: Гипотеза о равенстве средних Процентa занятых в финансовом секторе отклоняется"
   ]
  },
  {
   "cell_type": "code",
   "execution_count": 77,
   "metadata": {},
   "outputs": [
    {
     "data": {
      "text/plain": [
       "(ShapiroResult(statistic=0.965030312538147, pvalue=0.7270064949989319),\n",
       " ShapiroResult(statistic=0.9544620513916016, pvalue=0.7700527310371399))"
      ]
     },
     "execution_count": 77,
     "metadata": {},
     "output_type": "execute_result"
    }
   ],
   "source": [
    "sps.shapiro(df[df['cluster']==0]['SPS']), sps.shapiro(df[df['cluster']==2]['SPS'])"
   ]
  },
  {
   "cell_type": "code",
   "execution_count": 83,
   "metadata": {},
   "outputs": [
    {
     "name": "stdout",
     "output_type": "stream",
     "text": [
      "Статистика=5.848, p=0.054\n",
      "H0 не отклоняется\n"
     ]
    }
   ],
   "source": [
    "from scipy.stats import kruskal\n",
    "stat, p = kruskal(df[df['cluster'] == 0]['SPS'], df[df['cluster'] == 1]['SPS'],df[df['cluster'] == 2]['SPS'])  \n",
    "print('Статистика=%.3f, p=%.3f' % (stat, p))\n",
    "# вывод\n",
    "alpha = 0.05\n",
    "if p > alpha:\n",
    "    print('H0 не отклоняется')\n",
    "else:\n",
    "    print('H0 отклоняется')"
   ]
  },
  {
   "cell_type": "markdown",
   "metadata": {},
   "source": [
    "#### ВЫВОД: Гипотеза о равенстве средних Процентa занятых в социальных службах отклоняется"
   ]
  },
  {
   "cell_type": "code",
   "execution_count": 82,
   "metadata": {},
   "outputs": [
    {
     "data": {
      "text/plain": [
       "(ShapiroResult(statistic=0.8557724952697754, pvalue=0.01315049733966589),\n",
       " ShapiroResult(statistic=0.9677789211273193, pvalue=0.8820056319236755))"
      ]
     },
     "execution_count": 82,
     "metadata": {},
     "output_type": "execute_result"
    }
   ],
   "source": [
    "sps.shapiro(df[df['cluster']==0]['TC']), sps.shapiro(df[df['cluster']==2]['TC'])"
   ]
  },
  {
   "cell_type": "code",
   "execution_count": 84,
   "metadata": {},
   "outputs": [
    {
     "name": "stdout",
     "output_type": "stream",
     "text": [
      "Статистика=7.113, p=0.029\n",
      "H0 отклоняется\n"
     ]
    }
   ],
   "source": [
    "from scipy.stats import kruskal\n",
    "stat, p = kruskal(df[df['cluster'] == 0]['TC'], df[df['cluster'] == 1]['TC'],df[df['cluster'] == 2]['TC'])  \n",
    "print('Статистика=%.3f, p=%.3f' % (stat, p))\n",
    "# вывод\n",
    "alpha = 0.05\n",
    "if p > alpha:\n",
    "    print('H0 не отклоняется')\n",
    "else:\n",
    "    print('H0 отклоняется')"
   ]
  },
  {
   "cell_type": "markdown",
   "metadata": {},
   "source": [
    "#### ВЫВОД: Гипотеза о равенстве средних Процент занятых в транспорте и связи отклоняется"
   ]
  },
  {
   "cell_type": "code",
   "execution_count": 85,
   "metadata": {},
   "outputs": [
    {
     "name": "stdout",
     "output_type": "stream",
     "text": [
      "For n_clusters = 2 The average silhouette_score is : 0.30466397004966106\n",
      "For n_clusters = 3 The average silhouette_score is : 0.34958243781460724\n",
      "For n_clusters = 4 The average silhouette_score is : 0.16968356469965334\n"
     ]
    },
    {
     "data": {
      "image/png": "[encoded data removed]",
      "text/plain": [
       "<Figure size 720x504 with 1 Axes>"
      ]
     },
     "metadata": {
      "needs_background": "light"
     },
     "output_type": "display_data"
    },
    {
     "data": {
      "image/png": "[encoded data removed]",
      "text/plain": [
       "<Figure size 720x504 with 1 Axes>"
      ]
     },
     "metadata": {
      "needs_background": "light"
     },
     "output_type": "display_data"
    },
    {
     "data": {
      "image/png": "[encoded data removed]",
      "text/plain": [
       "<Figure size 720x504 with 1 Axes>"
      ]
     },
     "metadata": {
      "needs_background": "light"
     },
     "output_type": "display_data"
    }
   ],
   "source": [
    "y = model.labels_\n",
    "range_n_clusters = [2, 3, 4]\n",
    "\n",
    "for n_clusters in range_n_clusters:\n",
    "    fig, (ax1) = plt.subplots(1)\n",
    "    fig.set_size_inches(10, 7)\n",
    "\n",
    "    ax1.set_xlim([-0.1, 1])\n",
    "    ax1.set_ylim([0, len(X2) + (n_clusters + 1) * 10])\n",
    "\n",
    "    clusterer = KMeans(n_clusters=n_clusters, random_state=42)\n",
    "    cluster_labels = clusterer.fit_predict(X2)\n",
    "\n",
    "    silhouette_avg = silhouette_score(X2, cluster_labels)\n",
    "    print(\"For n_clusters =\", n_clusters,\n",
    "          \"The average silhouette_score is :\", silhouette_avg)\n",
    "\n",
    "    sample_silhouette_values = silhouette_samples(X2, cluster_labels)\n",
    "\n",
    "    y_lower = 10\n",
    "    for i in range(n_clusters):\n",
    "        ith_cluster_silhouette_values = \\\n",
    "            sample_silhouette_values[cluster_labels == i]\n",
    "\n",
    "        ith_cluster_silhouette_values.sort()\n",
    "\n",
    "        size_cluster_i = ith_cluster_silhouette_values.shape[0]\n",
    "        y_upper = y_lower + size_cluster_i\n",
    "\n",
    "        color = cm.nipy_spectral(float(i) / n_clusters)\n",
    "        ax1.fill_betweenx(np.arange(y_lower, y_upper),\n",
    "                          0, ith_cluster_silhouette_values,\n",
    "                          facecolor=color, edgecolor=color, alpha=0.7)\n",
    "\n",
    "        ax1.text(-0.05, y_lower + 0.5 * size_cluster_i, str(i))\n",
    "\n",
    "        y_lower = y_upper + 10\n",
    "\n",
    "    ax1.set_title(\"The silhouette plot for the various clusters.\")\n",
    "    ax1.set_xlabel(\"The silhouette coefficient values\")\n",
    "    ax1.set_ylabel(\"Cluster label\")\n",
    "\n",
    "    ax1.axvline(x=silhouette_avg, color=\"red\", linestyle=\"--\")\n",
    "\n",
    "    ax1.set_yticks([])  # Clear the yaxis labels / ticks\n",
    "    ax1.set_xticks([-0.1, 0, 0.2, 0.4, 0.6, 0.8, 1])  "
   ]
  },
  {
   "cell_type": "markdown",
   "metadata": {},
   "source": [
    "### Вывод (По второму способу стандартизации данных)"
   ]
  },
  {
   "cell_type": "markdown",
   "metadata": {},
   "source": [
    "#### Наибольшее значение силуэта у деления на три кластера, поэтому было принято решение провести кластеризацию именно так. "
   ]
  },
  {
   "cell_type": "markdown",
   "metadata": {},
   "source": [
    "#### Таким образом, в первый кластер попали следующие страны: Бельгия, Дания, Франция, Западная Германия, Ирландия, Италия, Люксембург, Нидерланды, Великобритания, Австрия, Финляндия, Греция, Норвегия, Португалия, Испания, Швеция, Швецария, которые характеризуются наибольшим средним процентом занятых в сфере услуг и социальной службе, однако наименьшим средним процентом занятых в сельском хозяйстве и в годно-добывающей промышленности.  "
   ]
  },
  {
   "cell_type": "markdown",
   "metadata": {},
   "source": [
    "#### Во второй кластер попали только две страны: Югославия и Турция. Страны характеризуются наибольшим средним процентом занятых в сельском хозяйстве и в финансовой сфере, но наименьшим процентом занятых в производстве, в энергетике, в строительстве, в сфере услуг, в социальных службах, в транспорте и связи. "
   ]
  },
  {
   "cell_type": "markdown",
   "metadata": {},
   "source": [
    "#### Соответственно в третий кластер попали: Болгария, Чехословакия, Восточная Германия, Венгрия, Польша, Румыния, СССР, которые характеризуются наибольшим средним процентом занятых в гоно-добывающей промышленности, производстве, энергетике и в сфере транспорта и связи, однако наименьшим средним процентом занятых в финансовой сфере"
   ]
  },
  {
   "cell_type": "markdown",
   "metadata": {},
   "source": [
    "#### Стоит отметить, что различие средних статистически незначимо по таким показателям как: Процент занятых в энергетике и Процент занятых в строительстве."
   ]
  },
  {
   "cell_type": "markdown",
   "metadata": {},
   "source": [
    "### Таким образом, сравнивая результаты двух проведённых кластерных анализов, можно сделать вывод о том, что при любом способе стандартизации данных выделяется кластер, который содержит в себе только две страны, а именно Югославию и Турцию, которые характеризуются наивысшим средним процентом населения, занятого в сельском хозяйстве. Из этого можно сделать вывод о том, что это на момент сбора данных (1979 год) были страны не с самой сильной экономикой, которая строилась на аграрной сфере. "
   ]
  },
  {
   "cell_type": "markdown",
   "metadata": {},
   "source": [
    "### При любом способе стандартизации данных выходили незначимые различия по некоторым отраслям, однако стоит отметить, что в первом случае это три показателя (Процент занятых в горно-добывающей промышленности, Процент занятых в энергетике, Процент занятых в финансовом секторе), тогда как во втором случае два показателя (Процент занятых в энергетике и Процент занятых в строительстве)"
   ]
  },
  {
   "cell_type": "markdown",
   "metadata": {},
   "source": [
    "### Такие результаты имеют место быть. Если рассуждать о выборе кластерного анализа из двух приведённых, я склоняюсь больше к разделению на два кластера (первый вариант стандартизации данных), так как там четко прослеживается деление именно на два кластера по всем методам (метод Elbow и метот силуэтов (причём в первом случае значение силуэта выше на 0,11, по сравнению со вторым вариантом деления на кластеры, что довольно существенно)"
   ]
  }
 ],
 "metadata": {
  "kernelspec": {
   "display_name": "Python 3 (ipykernel)",
   "language": "python",
   "name": "python3"
  },
  "language_info": {
   "codemirror_mode": {
    "name": "ipython",
    "version": 3
   },
   "file_extension": ".py",
   "mimetype": "text/x-python",
   "name": "python",
   "nbconvert_exporter": "python",
   "pygments_lexer": "ipython3",
   "version": "3.7.16"
  }
 },
 "nbformat": 4,
 "nbformat_minor": 4
}
